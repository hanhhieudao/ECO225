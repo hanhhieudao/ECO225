{
 "cells": [
  {
   "cell_type": "markdown",
   "metadata": {},
   "source": [
    "# What does the combined effects of property features, demographics composition, and economic indicators on the pricing dynamics of US Real Estate? "
   ]
  },
  {
   "cell_type": "markdown",
   "metadata": {},
   "source": [
    "## Introduction\n",
    "Understanding the dynamics of housing prices in the real estate market is important for property owners, buyers, and investors. However, these prices are often unpredictable without thorough observation. Understanding the determinants of housing prices in the real world can provide valuable insights for stakeholders and facilitate their decision-making process.\n",
    "\n",
    "An addition room in the house could possibly cost extra money for house owners. Oluseyi (2014) found that as the number of bathrooms and living rooms are crucial components affecting house prices. This is understanable becuase an extra room offers more convenience and comfort for residents, especially for bigger families. However, it's important to understand that property characteristics are not the solely factor to drive up the costs. Zietz et al. (2008) has constructed regression models to incorporate different variables including humans characteristics (eg. age, income) which also affect the housing purchases. \n",
    "\n",
    "The attributes of neighborhoods and local areas play a significant role in determining property value. Islam (2007) concluded that the presence of high-priced houses in an area can increase the house prices of those inhabited in that area. In addition, external factors such as crime rates and violence make a negative impact on prices, but their effect often gets negligible. \n",
    "\n",
    "Moreover, Ozmen et al. (2019) highlighted that housing prices not only correlate with the cost of living but also reflect he overall economic conditions across various states. Garlin (2008) noted a positive relationship between house prices and income, indicating that higher incomes boost confidence and drive up housing demand; thus making the prices go up. There is also a positive correlation between transport infrastructure and house prices (Churchill et al., 2021) in the long run, using non-linear and time-varying models.\n",
    "\n",
    "All of these studies have indicated that housing prices are affected by a combination of various variables, and they are also interconnected. This paper will analyze the impact of the house features in conjunction with demographics and economic status across American states."
   ]
  },
  {
   "cell_type": "markdown",
   "metadata": {},
   "source": [
    "### Data Source\n",
    "The dataset of housing prices was obtained from Kaggle, containing Real Estate listings in the US by State and zip code. It is collected from https://www.realtor.com/ - a real estate listing website operated by the News Corp subsidiary Move, Inc. and based in Santa Clara, California. The datase has 1 CSV file with 10 columns, each column represents a factor of the property."
   ]
  },
  {
   "cell_type": "markdown",
   "metadata": {},
   "source": [
    "## Data Preprocessing\n",
    "- Construcing the Summary Statistics Table"
   ]
  },
  {
   "cell_type": "code",
   "execution_count": 3,
   "metadata": {},
   "outputs": [],
   "source": [
    "import pandas as pd\n",
    "import seaborn as sns\n",
    "import matplotlib.pyplot as plt\n",
    "import numpy as np\n",
    "from shapely.geometry import Point\n",
    "import warnings\n",
    "\n",
    "# Suppress RuntimeWarnings from NumPy\n",
    "warnings.filterwarnings(\"ignore\", category=RuntimeWarning)"
   ]
  },
  {
   "cell_type": "code",
   "execution_count": 4,
   "metadata": {},
   "outputs": [
    {
     "data": {
      "text/html": [
       "<div>\n",
       "<style scoped>\n",
       "    .dataframe tbody tr th:only-of-type {\n",
       "        vertical-align: middle;\n",
       "    }\n",
       "\n",
       "    .dataframe tbody tr th {\n",
       "        vertical-align: top;\n",
       "    }\n",
       "\n",
       "    .dataframe thead th {\n",
       "        text-align: right;\n",
       "    }\n",
       "</style>\n",
       "<table border=\"1\" class=\"dataframe\">\n",
       "  <thead>\n",
       "    <tr style=\"text-align: right;\">\n",
       "      <th></th>\n",
       "      <th>status</th>\n",
       "      <th>bed</th>\n",
       "      <th>bath</th>\n",
       "      <th>acre_lot</th>\n",
       "      <th>city</th>\n",
       "      <th>state</th>\n",
       "      <th>zip_code</th>\n",
       "      <th>house_size</th>\n",
       "      <th>prev_sold_date</th>\n",
       "      <th>price</th>\n",
       "    </tr>\n",
       "  </thead>\n",
       "  <tbody>\n",
       "    <tr>\n",
       "      <th>0</th>\n",
       "      <td>for_sale</td>\n",
       "      <td>3.0</td>\n",
       "      <td>2.0</td>\n",
       "      <td>0.12</td>\n",
       "      <td>Adjuntas</td>\n",
       "      <td>Puerto Rico</td>\n",
       "      <td>00601</td>\n",
       "      <td>920.0</td>\n",
       "      <td>NaN</td>\n",
       "      <td>105000.0</td>\n",
       "    </tr>\n",
       "    <tr>\n",
       "      <th>1</th>\n",
       "      <td>for_sale</td>\n",
       "      <td>4.0</td>\n",
       "      <td>2.0</td>\n",
       "      <td>0.08</td>\n",
       "      <td>Adjuntas</td>\n",
       "      <td>Puerto Rico</td>\n",
       "      <td>00601</td>\n",
       "      <td>1527.0</td>\n",
       "      <td>NaN</td>\n",
       "      <td>80000.0</td>\n",
       "    </tr>\n",
       "    <tr>\n",
       "      <th>2</th>\n",
       "      <td>for_sale</td>\n",
       "      <td>2.0</td>\n",
       "      <td>1.0</td>\n",
       "      <td>0.15</td>\n",
       "      <td>Juana Diaz</td>\n",
       "      <td>Puerto Rico</td>\n",
       "      <td>00795</td>\n",
       "      <td>748.0</td>\n",
       "      <td>NaN</td>\n",
       "      <td>67000.0</td>\n",
       "    </tr>\n",
       "  </tbody>\n",
       "</table>\n",
       "</div>"
      ],
      "text/plain": [
       "     status  bed  bath  acre_lot        city        state zip_code  \\\n",
       "0  for_sale  3.0   2.0      0.12    Adjuntas  Puerto Rico    00601   \n",
       "1  for_sale  4.0   2.0      0.08    Adjuntas  Puerto Rico    00601   \n",
       "2  for_sale  2.0   1.0      0.15  Juana Diaz  Puerto Rico    00795   \n",
       "\n",
       "   house_size prev_sold_date     price  \n",
       "0       920.0            NaN  105000.0  \n",
       "1      1527.0            NaN   80000.0  \n",
       "2       748.0            NaN   67000.0  "
      ]
     },
     "execution_count": 4,
     "metadata": {},
     "output_type": "execute_result"
    }
   ],
   "source": [
    "dtype_zip_code = {'zip_code' : 'string'}\n",
    "df = pd.read_csv('/Users/hanhhieudao/Desktop/ECO225/realtor-data.csv', dtype=dtype_zip_code)\n",
    "df.head(3)"
   ]
  },
  {
   "cell_type": "code",
   "execution_count": 5,
   "metadata": {},
   "outputs": [
    {
     "data": {
      "text/html": [
       "<div>\n",
       "<style scoped>\n",
       "    .dataframe tbody tr th:only-of-type {\n",
       "        vertical-align: middle;\n",
       "    }\n",
       "\n",
       "    .dataframe tbody tr th {\n",
       "        vertical-align: top;\n",
       "    }\n",
       "\n",
       "    .dataframe thead th {\n",
       "        text-align: right;\n",
       "    }\n",
       "</style>\n",
       "<table border=\"1\" class=\"dataframe\">\n",
       "  <thead>\n",
       "    <tr style=\"text-align: right;\">\n",
       "      <th></th>\n",
       "      <th>status</th>\n",
       "      <th>bed</th>\n",
       "      <th>bath</th>\n",
       "      <th>acre_lot</th>\n",
       "      <th>city</th>\n",
       "      <th>state</th>\n",
       "      <th>zip_code</th>\n",
       "      <th>house_size</th>\n",
       "      <th>prev_sold_date</th>\n",
       "      <th>price</th>\n",
       "      <th>ZIP</th>\n",
       "      <th>Latitude</th>\n",
       "      <th>Longitude</th>\n",
       "      <th>Coordinates</th>\n",
       "      <th>Geometry</th>\n",
       "    </tr>\n",
       "  </thead>\n",
       "  <tbody>\n",
       "    <tr>\n",
       "      <th>0</th>\n",
       "      <td>for_sale</td>\n",
       "      <td>3.0</td>\n",
       "      <td>2.0</td>\n",
       "      <td>0.12</td>\n",
       "      <td>Adjuntas</td>\n",
       "      <td>Puerto Rico</td>\n",
       "      <td>00601</td>\n",
       "      <td>920.0</td>\n",
       "      <td>NaN</td>\n",
       "      <td>105000.0</td>\n",
       "      <td>00601</td>\n",
       "      <td>18.180555</td>\n",
       "      <td>-66.749961</td>\n",
       "      <td>(-66.749961, 18.180555)</td>\n",
       "      <td>POINT (-66.749961 18.180555)</td>\n",
       "    </tr>\n",
       "    <tr>\n",
       "      <th>1</th>\n",
       "      <td>for_sale</td>\n",
       "      <td>4.0</td>\n",
       "      <td>2.0</td>\n",
       "      <td>0.08</td>\n",
       "      <td>Adjuntas</td>\n",
       "      <td>Puerto Rico</td>\n",
       "      <td>00601</td>\n",
       "      <td>1527.0</td>\n",
       "      <td>NaN</td>\n",
       "      <td>80000.0</td>\n",
       "      <td>00601</td>\n",
       "      <td>18.180555</td>\n",
       "      <td>-66.749961</td>\n",
       "      <td>(-66.749961, 18.180555)</td>\n",
       "      <td>POINT (-66.749961 18.180555)</td>\n",
       "    </tr>\n",
       "    <tr>\n",
       "      <th>2</th>\n",
       "      <td>for_sale</td>\n",
       "      <td>3.0</td>\n",
       "      <td>2.0</td>\n",
       "      <td>0.12</td>\n",
       "      <td>Adjuntas</td>\n",
       "      <td>Puerto Rico</td>\n",
       "      <td>00601</td>\n",
       "      <td>920.0</td>\n",
       "      <td>NaN</td>\n",
       "      <td>105000.0</td>\n",
       "      <td>00601</td>\n",
       "      <td>18.180555</td>\n",
       "      <td>-66.749961</td>\n",
       "      <td>(-66.749961, 18.180555)</td>\n",
       "      <td>POINT (-66.749961 18.180555)</td>\n",
       "    </tr>\n",
       "  </tbody>\n",
       "</table>\n",
       "</div>"
      ],
      "text/plain": [
       "     status  bed  bath  acre_lot      city        state zip_code  house_size  \\\n",
       "0  for_sale  3.0   2.0      0.12  Adjuntas  Puerto Rico    00601       920.0   \n",
       "1  for_sale  4.0   2.0      0.08  Adjuntas  Puerto Rico    00601      1527.0   \n",
       "2  for_sale  3.0   2.0      0.12  Adjuntas  Puerto Rico    00601       920.0   \n",
       "\n",
       "  prev_sold_date     price    ZIP   Latitude   Longitude  \\\n",
       "0            NaN  105000.0  00601  18.180555  -66.749961   \n",
       "1            NaN   80000.0  00601  18.180555  -66.749961   \n",
       "2            NaN  105000.0  00601  18.180555  -66.749961   \n",
       "\n",
       "               Coordinates                      Geometry  \n",
       "0  (-66.749961, 18.180555)  POINT (-66.749961 18.180555)  \n",
       "1  (-66.749961, 18.180555)  POINT (-66.749961 18.180555)  \n",
       "2  (-66.749961, 18.180555)  POINT (-66.749961 18.180555)  "
      ]
     },
     "execution_count": 5,
     "metadata": {},
     "output_type": "execute_result"
    }
   ],
   "source": [
    "df_zipcode = pd.read_csv('/Users/hanhhieudao/Desktop/ECO225/US-Zip-Codes-from-2013-Government-Data.csv', dtype=str)\n",
    "df_map = df.merge(df_zipcode, left_on='zip_code', right_on='ZIP')\n",
    "df_map = df_map.rename(columns={'LAT': 'Latitude', 'LNG': 'Longitude'})\n",
    "df_map['Coordinates'] = list(zip(df_map.Longitude, df_map.Latitude))\n",
    "df_map['Geometry'] = df_map[\"Coordinates\"].apply(Point)\n",
    "df_map.head(3)"
   ]
  },
  {
   "cell_type": "markdown",
   "metadata": {},
   "source": [
    "Some of the NA values were dropped since Matplotlib and Seaborn libraries in Python do not handle NA values well. Removing them from the data will better the visualization of the data without causing error in compiling codes."
   ]
  },
  {
   "cell_type": "code",
   "execution_count": 6,
   "metadata": {},
   "outputs": [
    {
     "data": {
      "text/plain": [
       "status                 0\n",
       "bed               143840\n",
       "bath              123509\n",
       "acre_lot          319197\n",
       "city                  77\n",
       "state                  0\n",
       "zip_code             208\n",
       "house_size        342084\n",
       "prev_sold_date    517985\n",
       "price                 72\n",
       "dtype: int64"
      ]
     },
     "execution_count": 6,
     "metadata": {},
     "output_type": "execute_result"
    }
   ],
   "source": [
    "# Checking for null/missing values \n",
    "df.isnull().sum()"
   ]
  },
  {
   "cell_type": "markdown",
   "metadata": {},
   "source": [
    "The dataset exhibites a signficant amount of missing values, specifically in columns: bed, bath, acre_lot, city, zip_code, house_size, prev_sold_date, and price. Those missing values might raise potential biases in decriptive stastitics and potential impact on our analytical insights. A summary statistics table will be useful to give an overview of the distribution of available values with their central tendency and spread."
   ]
  },
  {
   "cell_type": "code",
   "execution_count": 7,
   "metadata": {},
   "outputs": [],
   "source": [
    "summary = df[['bed', 'bath', 'acre_lot', 'price']].describe()\n",
    "summary.columns = 'Bedrooms', 'Bathrooms', 'House Size (sqft)','Price (thousand USD)'"
   ]
  },
  {
   "cell_type": "code",
   "execution_count": 8,
   "metadata": {},
   "outputs": [
    {
     "data": {
      "text/html": [
       "<style type=\"text/css\">\n",
       "</style>\n",
       "<table id=\"T_a8cc4\">\n",
       "  <caption>Summary Statistics</caption>\n",
       "  <thead>\n",
       "    <tr>\n",
       "      <th class=\"blank level0\" >&nbsp;</th>\n",
       "      <th id=\"T_a8cc4_level0_col0\" class=\"col_heading level0 col0\" >Bedrooms</th>\n",
       "      <th id=\"T_a8cc4_level0_col1\" class=\"col_heading level0 col1\" >Bathrooms</th>\n",
       "      <th id=\"T_a8cc4_level0_col2\" class=\"col_heading level0 col2\" >House Size (sqft)</th>\n",
       "      <th id=\"T_a8cc4_level0_col3\" class=\"col_heading level0 col3\" >Price (thousand USD)</th>\n",
       "    </tr>\n",
       "  </thead>\n",
       "  <tbody>\n",
       "    <tr>\n",
       "      <th id=\"T_a8cc4_level0_row0\" class=\"row_heading level0 row0\" >count</th>\n",
       "      <td id=\"T_a8cc4_row0_col0\" class=\"data row0 col0\" >904735.0</td>\n",
       "      <td id=\"T_a8cc4_row0_col1\" class=\"data row0 col1\" >925066.0</td>\n",
       "      <td id=\"T_a8cc4_row0_col2\" class=\"data row0 col2\" >729378.000000</td>\n",
       "      <td id=\"T_a8cc4_row0_col3\" class=\"data row0 col3\" >$1,048,503</td>\n",
       "    </tr>\n",
       "    <tr>\n",
       "      <th id=\"T_a8cc4_level0_row1\" class=\"row_heading level0 row1\" >mean</th>\n",
       "      <td id=\"T_a8cc4_row1_col0\" class=\"data row1 col0\" >3.3</td>\n",
       "      <td id=\"T_a8cc4_row1_col1\" class=\"data row1 col1\" >2.5</td>\n",
       "      <td id=\"T_a8cc4_row1_col2\" class=\"data row1 col2\" >15.593482</td>\n",
       "      <td id=\"T_a8cc4_row1_col3\" class=\"data row1 col3\" >$903,655</td>\n",
       "    </tr>\n",
       "    <tr>\n",
       "      <th id=\"T_a8cc4_level0_row2\" class=\"row_heading level0 row2\" >std</th>\n",
       "      <td id=\"T_a8cc4_row2_col0\" class=\"data row2 col0\" >2.1</td>\n",
       "      <td id=\"T_a8cc4_row2_col1\" class=\"data row2 col1\" >2.0</td>\n",
       "      <td id=\"T_a8cc4_row2_col2\" class=\"data row2 col2\" >910.810132</td>\n",
       "      <td id=\"T_a8cc4_row2_col3\" class=\"data row2 col3\" >$2,849,184</td>\n",
       "    </tr>\n",
       "    <tr>\n",
       "      <th id=\"T_a8cc4_level0_row3\" class=\"row_heading level0 row3\" >min</th>\n",
       "      <td id=\"T_a8cc4_row3_col0\" class=\"data row3 col0\" >1.0</td>\n",
       "      <td id=\"T_a8cc4_row3_col1\" class=\"data row3 col1\" >1.0</td>\n",
       "      <td id=\"T_a8cc4_row3_col2\" class=\"data row3 col2\" >0.000000</td>\n",
       "      <td id=\"T_a8cc4_row3_col3\" class=\"data row3 col3\" >$0</td>\n",
       "    </tr>\n",
       "    <tr>\n",
       "      <th id=\"T_a8cc4_level0_row4\" class=\"row_heading level0 row4\" >25%</th>\n",
       "      <td id=\"T_a8cc4_row4_col0\" class=\"data row4 col0\" >2.0</td>\n",
       "      <td id=\"T_a8cc4_row4_col1\" class=\"data row4 col1\" >1.0</td>\n",
       "      <td id=\"T_a8cc4_row4_col2\" class=\"data row4 col2\" >0.110000</td>\n",
       "      <td id=\"T_a8cc4_row4_col3\" class=\"data row4 col3\" >$275,000</td>\n",
       "    </tr>\n",
       "    <tr>\n",
       "      <th id=\"T_a8cc4_level0_row5\" class=\"row_heading level0 row5\" >50%</th>\n",
       "      <td id=\"T_a8cc4_row5_col0\" class=\"data row5 col0\" >3.0</td>\n",
       "      <td id=\"T_a8cc4_row5_col1\" class=\"data row5 col1\" >2.0</td>\n",
       "      <td id=\"T_a8cc4_row5_col2\" class=\"data row5 col2\" >0.280000</td>\n",
       "      <td id=\"T_a8cc4_row5_col3\" class=\"data row5 col3\" >$495,000</td>\n",
       "    </tr>\n",
       "    <tr>\n",
       "      <th id=\"T_a8cc4_level0_row6\" class=\"row_heading level0 row6\" >75%</th>\n",
       "      <td id=\"T_a8cc4_row6_col0\" class=\"data row6 col0\" >4.0</td>\n",
       "      <td id=\"T_a8cc4_row6_col1\" class=\"data row6 col1\" >3.0</td>\n",
       "      <td id=\"T_a8cc4_row6_col2\" class=\"data row6 col2\" >1.110000</td>\n",
       "      <td id=\"T_a8cc4_row6_col3\" class=\"data row6 col3\" >$850,000</td>\n",
       "    </tr>\n",
       "    <tr>\n",
       "      <th id=\"T_a8cc4_level0_row7\" class=\"row_heading level0 row7\" >max</th>\n",
       "      <td id=\"T_a8cc4_row7_col0\" class=\"data row7 col0\" >123.0</td>\n",
       "      <td id=\"T_a8cc4_row7_col1\" class=\"data row7 col1\" >198.0</td>\n",
       "      <td id=\"T_a8cc4_row7_col2\" class=\"data row7 col2\" >100000.000000</td>\n",
       "      <td id=\"T_a8cc4_row7_col3\" class=\"data row7 col3\" >$875,000,000</td>\n",
       "    </tr>\n",
       "  </tbody>\n",
       "</table>\n"
      ],
      "text/plain": [
       "<pandas.io.formats.style.Styler at 0x2a04e1c50>"
      ]
     },
     "execution_count": 8,
     "metadata": {},
     "output_type": "execute_result"
    }
   ],
   "source": [
    "table = summary.style.format({\n",
    "    'Bedrooms': '{:.1f}', \n",
    "    'Bathrooms': '{:.1f}',\n",
    "    'House Size': '{:.1f}',\n",
    "    'Price (thousand USD)': '${:,.0f}'\n",
    "}).set_caption('Summary Statistics')\n",
    "table"
   ]
  },
  {
   "cell_type": "markdown",
   "metadata": {},
   "source": [
    "The table provide some key insights of the dataset. In terms of number of bedrooms ('bed'), a diverse range is observed with average of 3 bedrooms with a standard deviation of 2, indicating variability around this mean. However, it has some outliers as the max number of bedroosm goes up to 123. Similarly, the bathroom counts have an avergae of 2 bathrooms per property, but there's also a property with 198 bathrooms, rasing some concerns about outliers. These findings underscore the necessity for meticulous outlier detection and critical assessment of the dataset's reliability in accurately representing properties across the state. In addition, outliers also indicate that larger property with high number of amentities are highly valuable in the market. Comparing to normal properties with average of 2-3 bathrooms and bedrooms, those large property demonstrate their uniqueness in the number of house rooms have extremely high values.\n",
    "\n",
    "The distribution of living spaces might be right-screwked, with a tail extending towards larger sizes. This is due to the presence of outliers, and since 75% of the data is below 2500, it indicates that the majority of thoe houses have sizes on the lower end. The data implies that living space is a very important determinant to drive up the housing prices, rising up the property values significantly to millions of USA.\n",
    "\n",
    "The average house price is $755,479 but the high standard deviation of $1,030,817 represents a wide range of prices of houses across the USA. This distribution suggests that there are various factors contribute to the price fluctuations. To address this spread, it's crucial to not only focus on housing properties, but also their other key factors such as neighborhood characteristics, socio-economic factors, and public amentities."
   ]
  },
  {
   "cell_type": "markdown",
   "metadata": {},
   "source": [
    "\n",
    "## Variables Selections\n",
    "### Dependent variable (Y)\n",
    "Housing price represents the monetary value of the property in the market. This is the target variable for pricing analysis of real estate across USA regarding to chosen indepedent variables. \n",
    "\n",
    "### Independent variable (X)\n",
    "1. Number of bedrooms 'bed': The number of bedrooms represents the aspect of residential properties and influence a house's market values. Besides, it also provides insights into diversity of personal preferences and different need of house buyers. For instance, they can use extra rooms in the house for guest rooms, home offices, etc. that reflect a very distinct buyers segments within real estate market. \n",
    "\n",
    "2. Number of bathrooms 'bath': The number of bathrooms is a fundamental utility for homeowners and potential buyers. It contributes to the functional aspect of a property and also reflece the needs of inidviduals.\n",
    "\n",
    "3. House size 'house_size': This matters because a bigger living space usually comes with more amentities and features, making the house more valuable. How the size of a house connected to its price is a significant factor. Understanding this relationship helps to know what people value in a home and how much they're willing to pay for it. \n",
    "\n"
   ]
  },
  {
   "cell_type": "code",
   "execution_count": 9,
   "metadata": {},
   "outputs": [
    {
     "data": {
      "image/png": "[encoded data removed]",
      "text/plain": [
       "<Figure size 2000x500 with 4 Axes>"
      ]
     },
     "metadata": {},
     "output_type": "display_data"
    }
   ],
   "source": [
    "fig, axs = plt.subplots(1, 4, figsize=(20, 5))\n",
    "\n",
    "# Scatter plot for 'house_size'\n",
    "axs[0].scatter(df['house_size'], df['price'], color=\"purple\", alpha=0.5)\n",
    "axs[0].set_xlabel(\"House Size\")\n",
    "axs[0].set_ylabel(\"House Price\")\n",
    "axs[0].set_title(\"Price vs House Size\")\n",
    "\n",
    "# Scatter plot for 'bed'\n",
    "axs[1].scatter(df['bed'], df['price'], color=\"purple\", alpha=0.5)\n",
    "axs[1].set_xlabel(\"Bed\")\n",
    "axs[1].set_ylabel(\"House Price\")\n",
    "axs[1].set_title(\"Price vs Bed\")\n",
    "\n",
    "# Scatter plot for 'bath'\n",
    "axs[2].scatter(df['bath'], df['price'], color=\"purple\", alpha=0.5)\n",
    "axs[2].set_xlabel(\"Bed\")\n",
    "axs[2].set_ylabel(\"House Price\")\n",
    "axs[2].set_title(\"Price vs Bath\")\n",
    "\n",
    "# Scatter plot for 'acre_lot'\n",
    "axs[3].scatter(df['house_size'], df['price'], color=\"purple\", alpha=0.5)\n",
    "axs[3].set_xlabel(\"Acre Lot\")\n",
    "axs[3].set_ylabel(\"House Price\")\n",
    "axs[3].set_title(\"Price vs House Size\")\n",
    "\n",
    "fig.tight_layout()\n",
    "plt.show()\n"
   ]
  },
  {
   "cell_type": "markdown",
   "metadata": {},
   "source": [
    "The scatter plots reveal a stronger positive correlation between the number of bedrooms and bathrooms with housing price compared to the influence of house sizes. Tighter clustering and an upward trend indicate that higher bedroom and bathroom counrs for the highe values of properties, emphasizing their significant impact on real estate prices."
   ]
  },
  {
   "cell_type": "code",
   "execution_count": 10,
   "metadata": {},
   "outputs": [],
   "source": [
    "column_num = ['bed','bath','acre_lot','house_size','price']\n",
    "Q1 = df[column_num].quantile(0.25)\n",
    "Q3 = df[column_num].quantile(0.75)\n",
    "IQR = Q3 - Q1\n",
    "\n",
    "df = df[~((df[column_num] < (Q1 - 1.5 * IQR)) | (df[column_num] > (Q3 + 1.5 * IQR))).any(axis=1)]"
   ]
  },
  {
   "cell_type": "code",
   "execution_count": 11,
   "metadata": {},
   "outputs": [
    {
     "data": {
      "application/vnd.plotly.v1+json": {
       "config": {
        "plotlyServerURL": "https://plot.ly"
       },
       "data": [
        {
         "hovertemplate": "acre_lot=%{x}<br>price=%{y}<extra></extra>",
         "legendgroup": "",
         "marker": {
          "color": "#636efa",
          "symbol": "circle"
         },
         "mode": "markers",
         "name": "",
         "orientation": "v",
         "showlegend": false,
         "type": "scatter",
         "x": [
          0,
          0.01,
          0.02,
          0.03,
          0.04,
          0.05,
          0.06,
          0.07,
          0.08,
          0.09,
          0.1,
          0.11,
          0.12,
          0.13,
          0.14,
          0.15,
          0.16,
          0.17,
          0.18,
          0.19,
          0.2,
          0.21,
          0.22,
          0.23,
          0.24,
          0.25,
          0.26,
          0.27,
          0.28,
          0.29,
          0.3,
          0.31,
          0.32,
          0.33,
          0.34,
          0.35,
          0.36,
          0.37,
          0.38,
          0.39,
          0.4,
          0.41,
          0.42,
          0.43,
          0.44,
          0.45,
          0.46,
          0.47,
          0.48,
          0.49,
          0.5,
          0.51,
          0.52,
          0.53,
          0.54,
          0.55,
          0.56,
          0.57,
          0.58,
          0.59,
          0.6,
          0.61,
          0.62,
          0.63,
          0.64,
          0.65,
          0.66,
          0.67,
          0.68,
          0.69,
          0.7,
          0.71,
          0.72,
          0.73,
          0.74,
          0.75,
          0.76,
          0.77,
          0.78,
          0.79,
          0.8,
          0.81,
          0.82,
          0.83,
          0.84,
          0.85,
          0.86,
          0.87,
          0.88,
          0.89,
          0.9,
          0.91,
          0.92,
          0.93,
          0.94,
          0.95,
          0.96,
          0.97,
          0.98,
          0.99,
          1,
          1.01,
          1.02,
          1.03,
          1.04,
          1.05,
          1.06,
          1.07,
          1.08,
          1.09,
          1.1,
          1.11,
          1.12,
          1.13,
          1.14,
          1.15,
          1.16,
          1.17,
          1.18,
          1.19,
          1.2,
          1.21,
          1.22,
          1.23,
          1.24,
          1.25,
          1.26,
          1.27,
          1.28,
          1.29,
          1.3,
          1.31,
          1.32,
          1.33,
          1.34,
          1.35,
          1.36,
          1.37,
          1.38,
          1.39,
          1.4,
          1.41,
          1.42,
          1.43,
          1.44,
          1.45,
          1.46,
          1.47,
          1.48,
          1.49,
          1.5,
          1.51,
          1.52,
          1.53,
          1.54,
          1.55,
          1.56,
          1.57,
          1.58,
          1.59,
          1.6,
          1.61,
          1.62,
          1.63,
          1.64,
          1.65,
          1.66,
          1.67,
          1.68,
          1.69,
          1.7,
          1.71,
          1.72,
          1.73,
          1.74,
          1.75,
          1.76,
          1.77,
          1.78,
          1.79,
          1.8,
          1.81,
          1.82,
          1.83,
          1.84,
          1.85,
          1.86,
          1.87,
          1.88,
          1.89,
          1.9,
          1.91,
          1.92,
          1.93,
          1.94,
          1.95,
          1.96,
          1.97,
          1.98,
          1.99,
          2,
          2.01,
          2.02,
          2.03,
          2.04,
          2.05,
          2.06,
          2.07,
          2.08,
          2.09,
          2.1,
          2.11,
          2.12,
          2.13,
          2.14,
          2.15,
          2.16,
          2.17,
          2.18,
          2.19,
          2.2,
          2.21,
          2.22,
          2.23,
          2.24,
          2.25,
          2.26,
          2.27,
          2.28,
          2.29,
          2.3,
          2.31,
          2.32,
          2.33,
          2.34,
          2.35,
          2.36,
          2.37,
          2.38,
          2.39,
          2.4,
          2.41,
          2.42,
          2.43,
          2.44,
          2.45,
          2.46,
          2.47,
          2.48,
          2.49,
          2.5,
          2.51,
          2.52,
          2.53,
          2.54,
          2.55,
          2.56,
          2.57,
          2.58,
          2.59,
          2.6,
          2.61
         ],
         "xaxis": "x",
         "y": [
          389007.54820143885,
          369315.29567074357,
          441538.1884953442,
          512641.1159901366,
          654644.6954011677,
          725756.6599065565,
          635785.8345297182,
          587804.8687522218,
          481763.6460674157,
          594794.6085522638,
          493098.3331361947,
          507044.02183533733,
          501499.1757120705,
          486003.3934203371,
          514256.0220307866,
          454850.74696690287,
          487429.0736210478,
          490767.5018503833,
          464761.9179331307,
          480518.9204374573,
          460755.26190170663,
          461252.7699960207,
          473884.9601125032,
          489479.97563979746,
          484870.91466507537,
          496524.2130041625,
          453519.05796872533,
          473132.7948490231,
          461712.95227978425,
          464156.89806303347,
          428432.0348325359,
          456287.90259365994,
          468006.86671945103,
          462563.92907801416,
          493666.521056867,
          539208.0006142507,
          467889.10522000544,
          494291.77166476625,
          487532.80604534,
          489741.8437835901,
          458639.06394009216,
          539268.8647711512,
          500370.4866828087,
          467193.12569521694,
          486956.7864903165,
          461437.35042353993,
          531992.9345394737,
          563739.0413322633,
          519055.3662930344,
          618828.3846153846,
          437210.93424403796,
          476221.32046834345,
          501192.73930846225,
          504455.1311563169,
          536368.4224743382,
          505504.6301555105,
          528371.8112919633,
          505857.6250614251,
          531681.5647058823,
          497273.18839634943,
          457725.0332821301,
          485548.3615384615,
          517946.2839506173,
          408506.78955954325,
          498956.87796312553,
          540905.78515625,
          511166.51331967214,
          492989.6708737864,
          431708.81001727114,
          481778.27175908926,
          503106.0273694881,
          474931.6401480111,
          563839.909774436,
          443631.5667276051,
          500386.53288925893,
          431648.7667238422,
          442449.2642320086,
          514587.9829497016,
          525651.1583421892,
          526719.4561774023,
          371561.31302361004,
          563624.9048723897,
          543474.8524822695,
          450601.5953360768,
          517434.47540983604,
          468456.4806973848,
          550705.4661354582,
          536927.8213333334,
          479852.61045751633,
          477744.249122807,
          447635.70366492146,
          467546.46470588236,
          573356.1679564345,
          619808.9977561706,
          506705.48150943394,
          503743.423,
          525180.5911764706,
          447373.6271186441,
          465363.8352112676,
          436156.73854166665,
          443663.0885132437,
          567269.3267267267,
          540214.3230088495,
          489892.7053045187,
          463517.4544480172,
          517684.47154471546,
          449653.56994219654,
          524229.4344473008,
          487434.72470238095,
          360227.5048169557,
          425178.22564102564,
          521116.36466774717,
          481312.36614853196,
          565913.0045180722,
          459247.9418238994,
          501220.2531779661,
          490192.0295250321,
          410803.2410071943,
          496623.98122866894,
          494014.4548192771,
          416821.96510903427,
          449993.9660766962,
          504508.823117338,
          532261.9422572178,
          543809.3980099503,
          441295.206095791,
          439006.1715893108,
          406844.8880597015,
          427013.4231536926,
          466432.3560885609,
          368448.02465753426,
          522739.8269662921,
          474568.42700729927,
          465556.8134328358,
          462435.14260249556,
          447253.51086956525,
          571574.126614987,
          421835.21698113205,
          496441.30347054073,
          438146.1211573237,
          396242.7840909091,
          470128.45454545453,
          444758.72643253236,
          396259.84251968504,
          513857.1163434903,
          509987.09750566893,
          462857.60185185185,
          361993.69834710745,
          395470.8474576271,
          494858.22839506174,
          460770.08282828284,
          419790.89783281734,
          706335.5906735752,
          579965.6338028169,
          486747.19444444444,
          492109.7667844523,
          433806.70707070705,
          378652.1145510836,
          485575.1037344398,
          455444.77777777775,
          388172.2340926944,
          348152.5084745763,
          381797.09881422925,
          489601.90962099127,
          570164.6,
          534892.1526717558,
          361276.5585585586,
          500164.5519713262,
          526309.5238095238,
          419361.875,
          321128.85,
          661492.1522633745,
          366665.6637554585,
          510918.67088607594,
          407497.4577114428,
          458560.4922048998,
          454768.7046632124,
          575131.7343173432,
          415831.6564417178,
          490465.23170731706,
          361232.2929171669,
          520285.5045045045,
          427657.9399141631,
          453100.4784688995,
          506158.9512195122,
          636708.0831408775,
          366388.5777262181,
          499082.2137096774,
          596156.8445595854,
          336159.8888888889,
          382848.78819444444,
          257719.06779661018,
          415840.243902439,
          489627.90178571426,
          430440.80284552847,
          336795.983935743,
          406614.7014388489,
          488610.8951965066,
          469028.6436781609,
          534962.0984848485,
          401424.85674867785,
          591046.0404858299,
          499119.8162601626,
          412340.43302752293,
          369164.01673640165,
          568782.8725490196,
          385078.8265682657,
          375051.40409207164,
          490510.1153846154,
          407346.3051224944,
          393877.98387096776,
          410917.5872340425,
          444862.95081967214,
          345771.71830985916,
          527649.7587939699,
          406076.2788461539,
          522576.953125,
          284881.512605042,
          278836.07086614176,
          426126.87074829935,
          396354.13070283603,
          608245.5284552845,
          444286.9770992366,
          340159.71014492755,
          509118.22222222225,
          372983.96978851967,
          522014.2414860681,
          358648.65900383145,
          461897.00598802394,
          524967.0967741936,
          397754.51908396947,
          373772.8070175439,
          422924.33204633207,
          376595.4081632653,
          354556.1010638298,
          420610.35714285716,
          538684.0476190476,
          558815.3832335329,
          439584.9601769911,
          323657.2413793103,
          352671.62252475246,
          442107.9104477612,
          618246.1988304093,
          242544.50557620818,
          411832.9896907217,
          439779.2993630573,
          526032.22147651,
          271822.61904761905,
          355157.32484076434,
          481860.2371794872,
          344498.6068895643,
          421006.36279069766,
          416780.8219178082,
          520991.3043478261,
          428836.76470588235,
          474247.1698113208,
          349663.39285714284,
          278722.22222222225,
          373025.679245283,
          395706.77966101695,
          431598.1163227017,
          439989.1089108911
         ],
         "yaxis": "y"
        },
        {
         "hovertemplate": "<b>OLS trendline</b><br>price = -37408 * acre_lot + 515967<br>R<sup>2</sup>=0.142187<br><br>acre_lot=%{x}<br>price=%{y} <b>(trend)</b><extra></extra>",
         "legendgroup": "",
         "marker": {
          "color": "#636efa",
          "symbol": "circle"
         },
         "mode": "lines",
         "name": "",
         "showlegend": false,
         "type": "scatter",
         "x": [
          0,
          0.01,
          0.02,
          0.03,
          0.04,
          0.05,
          0.06,
          0.07,
          0.08,
          0.09,
          0.1,
          0.11,
          0.12,
          0.13,
          0.14,
          0.15,
          0.16,
          0.17,
          0.18,
          0.19,
          0.2,
          0.21,
          0.22,
          0.23,
          0.24,
          0.25,
          0.26,
          0.27,
          0.28,
          0.29,
          0.3,
          0.31,
          0.32,
          0.33,
          0.34,
          0.35,
          0.36,
          0.37,
          0.38,
          0.39,
          0.4,
          0.41,
          0.42,
          0.43,
          0.44,
          0.45,
          0.46,
          0.47,
          0.48,
          0.49,
          0.5,
          0.51,
          0.52,
          0.53,
          0.54,
          0.55,
          0.56,
          0.57,
          0.58,
          0.59,
          0.6,
          0.61,
          0.62,
          0.63,
          0.64,
          0.65,
          0.66,
          0.67,
          0.68,
          0.69,
          0.7,
          0.71,
          0.72,
          0.73,
          0.74,
          0.75,
          0.76,
          0.77,
          0.78,
          0.79,
          0.8,
          0.81,
          0.82,
          0.83,
          0.84,
          0.85,
          0.86,
          0.87,
          0.88,
          0.89,
          0.9,
          0.91,
          0.92,
          0.93,
          0.94,
          0.95,
          0.96,
          0.97,
          0.98,
          0.99,
          1,
          1.01,
          1.02,
          1.03,
          1.04,
          1.05,
          1.06,
          1.07,
          1.08,
          1.09,
          1.1,
          1.11,
          1.12,
          1.13,
          1.14,
          1.15,
          1.16,
          1.17,
          1.18,
          1.19,
          1.2,
          1.21,
          1.22,
          1.23,
          1.24,
          1.25,
          1.26,
          1.27,
          1.28,
          1.29,
          1.3,
          1.31,
          1.32,
          1.33,
          1.34,
          1.35,
          1.36,
          1.37,
          1.38,
          1.39,
          1.4,
          1.41,
          1.42,
          1.43,
          1.44,
          1.45,
          1.46,
          1.47,
          1.48,
          1.49,
          1.5,
          1.51,
          1.52,
          1.53,
          1.54,
          1.55,
          1.56,
          1.57,
          1.58,
          1.59,
          1.6,
          1.61,
          1.62,
          1.63,
          1.64,
          1.65,
          1.66,
          1.67,
          1.68,
          1.69,
          1.7,
          1.71,
          1.72,
          1.73,
          1.74,
          1.75,
          1.76,
          1.77,
          1.78,
          1.79,
          1.8,
          1.81,
          1.82,
          1.83,
          1.84,
          1.85,
          1.86,
          1.87,
          1.88,
          1.89,
          1.9,
          1.91,
          1.92,
          1.93,
          1.94,
          1.95,
          1.96,
          1.97,
          1.98,
          1.99,
          2,
          2.01,
          2.02,
          2.03,
          2.04,
          2.05,
          2.06,
          2.07,
          2.08,
          2.09,
          2.1,
          2.11,
          2.12,
          2.13,
          2.14,
          2.15,
          2.16,
          2.17,
          2.18,
          2.19,
          2.2,
          2.21,
          2.22,
          2.23,
          2.24,
          2.25,
          2.26,
          2.27,
          2.28,
          2.29,
          2.3,
          2.31,
          2.32,
          2.33,
          2.34,
          2.35,
          2.36,
          2.37,
          2.38,
          2.39,
          2.4,
          2.41,
          2.42,
          2.43,
          2.44,
          2.45,
          2.46,
          2.47,
          2.48,
          2.49,
          2.5,
          2.51,
          2.52,
          2.53,
          2.54,
          2.55,
          2.56,
          2.57,
          2.58,
          2.59,
          2.6,
          2.61
         ],
         "xaxis": "x",
         "y": [
          515967.17018786113,
          515593.09008136316,
          515219.00997486524,
          514844.92986836727,
          514470.84976186935,
          514096.7696553714,
          513722.68954887346,
          513348.6094423755,
          512974.52933587757,
          512600.4492293796,
          512226.3691228817,
          511852.2890163837,
          511478.2089098857,
          511104.1288033878,
          510730.04869688983,
          510355.9685903919,
          509981.88848389394,
          509607.808377396,
          509233.72827089805,
          508859.64816440013,
          508485.56805790216,
          508111.48795140424,
          507737.40784490627,
          507363.3277384083,
          506989.2476319104,
          506615.1675254124,
          506241.0874189145,
          505867.0073124165,
          505492.9272059186,
          505118.8470994206,
          504744.7669929227,
          504370.6868864247,
          503996.60677992675,
          503622.52667342883,
          503248.44656693086,
          502874.36646043294,
          502500.28635393496,
          502126.20624743705,
          501752.1261409391,
          501378.04603444115,
          501003.9659279432,
          500629.88582144526,
          500255.8057149473,
          499881.7256084493,
          499507.6455019514,
          499133.5653954534,
          498759.4852889555,
          498385.4051824575,
          498011.3250759596,
          497637.24496946164,
          497263.1648629637,
          496889.08475646575,
          496515.0046499678,
          496140.92454346985,
          495766.8444369719,
          495392.76433047396,
          495018.684223976,
          494644.60411747807,
          494270.5240109801,
          493896.4439044822,
          493522.3637979842,
          493148.2836914863,
          492774.2035849883,
          492400.1234784904,
          492026.0433719924,
          491651.96326549444,
          491277.8831589965,
          490903.80305249855,
          490529.72294600063,
          490155.64283950266,
          489781.56273300474,
          489407.48262650677,
          489033.40252000885,
          488659.3224135109,
          488285.2423070129,
          487911.162200515,
          487537.082094017,
          487163.0019875191,
          486788.9218810211,
          486414.8417745232,
          486040.7616680252,
          485666.6815615273,
          485292.60145502933,
          484918.5213485314,
          484544.44124203344,
          484170.36113553547,
          483796.28102903755,
          483422.2009225396,
          483048.12081604166,
          482674.0407095437,
          482299.96060304577,
          481925.8804965478,
          481551.8003900499,
          481177.7202835519,
          480803.640177054,
          480429.560070556,
          480055.47996405803,
          479681.3998575601,
          479307.31975106214,
          478933.2396445642,
          478559.15953806625,
          478185.07943156833,
          477810.99932507036,
          477436.91921857244,
          477062.83911207446,
          476688.7590055765,
          476314.6788990786,
          475940.5987925806,
          475566.5186860827,
          475192.4385795847,
          474818.3584730868,
          474444.2783665888,
          474070.1982600909,
          473696.1181535929,
          473322.038047095,
          472947.957940597,
          472573.8778340991,
          472199.79772760114,
          471825.71762110316,
          471451.63751460525,
          471077.55740810727,
          470703.47730160935,
          470329.3971951114,
          469955.31708861346,
          469581.2369821155,
          469207.15687561757,
          468833.0767691196,
          468458.9966626216,
          468084.9165561237,
          467710.8364496257,
          467336.7563431278,
          466962.67623662984,
          466588.5961301319,
          466214.51602363394,
          465840.435917136,
          465466.35581063805,
          465092.2757041401,
          464718.19559764216,
          464344.11549114424,
          463970.03538464627,
          463595.9552781483,
          463221.8751716504,
          462847.7950651524,
          462473.7149586545,
          462099.6348521565,
          461725.5547456586,
          461351.4746391606,
          460977.3945326627,
          460603.3144261647,
          460229.23431966675,
          459855.15421316883,
          459481.07410667086,
          459106.99400017294,
          458732.91389367497,
          458358.83378717705,
          457984.7536806791,
          457610.67357418116,
          457236.5934676832,
          456862.5133611852,
          456488.4332546873,
          456114.3531481893,
          455740.2730416914,
          455366.1929351934,
          454992.1128286955,
          454618.03272219753,
          454243.9526156996,
          453869.87250920164,
          453495.7924027037,
          453121.71229620575,
          452747.63218970783,
          452373.55208320986,
          451999.4719767119,
          451625.39187021396,
          451251.311763716,
          450877.2316572181,
          450503.1515507201,
          450129.0714442222,
          449754.9913377242,
          449380.9112312263,
          449006.8311247283,
          448632.75101823034,
          448258.6709117324,
          447884.59080523445,
          447510.5106987365,
          447136.43059223855,
          446762.35048574064,
          446388.27037924266,
          446014.19027274475,
          445640.11016624677,
          445266.03005974885,
          444891.9499532509,
          444517.8698467529,
          444143.789740255,
          443769.709633757,
          443395.6295272591,
          443021.5494207611,
          442647.4693142632,
          442273.3892077652,
          441899.3091012673,
          441525.22899476934,
          441151.1488882714,
          440777.06878177344,
          440402.98867527547,
          440028.90856877755,
          439654.8284622796,
          439280.74835578166,
          438906.6682492837,
          438532.58814278577,
          438158.5080362878,
          437784.4279297899,
          437410.3478232919,
          437036.267716794,
          436662.187610296,
          436288.10750379803,
          435914.0273973001,
          435539.94729080214,
          435165.8671843042,
          434791.78707780625,
          434417.70697130833,
          434043.62686481036,
          433669.5467583124,
          433295.46665181447,
          432921.3865453165,
          432547.3064388186,
          432173.2263323206,
          431799.1462258227,
          431425.0661193247,
          431050.9860128268,
          430676.9059063288,
          430302.8257998309,
          429928.7456933329,
          429554.66558683495,
          429180.58548033703,
          428806.50537383906,
          428432.42526734114,
          428058.34516084316,
          427684.26505434525,
          427310.1849478473,
          426936.10484134936,
          426562.0247348514,
          426187.94462835346,
          425813.8645218555,
          425439.7844153576,
          425065.7043088596,
          424691.6242023616,
          424317.5440958637,
          423943.46398936573,
          423569.3838828678,
          423195.30377636984,
          422821.2236698719,
          422447.14356337395,
          422073.063456876,
          421698.98335037805,
          421324.90324388014,
          420950.82313738216,
          420576.74303088424,
          420202.66292438627,
          419828.5828178883,
          419454.5027113904,
          419080.4226048924,
          418706.3424983945,
          418332.2623918965
         ],
         "yaxis": "y"
        }
       ],
       "layout": {
        "legend": {
         "tracegroupgap": 0
        },
        "margin": {
         "t": 60
        },
        "template": {
         "data": {
          "bar": [
           {
            "error_x": {
             "color": "#2a3f5f"
            },
            "error_y": {
             "color": "#2a3f5f"
            },
            "marker": {
             "line": {
              "color": "#E5ECF6",
              "width": 0.5
             },
             "pattern": {
              "fillmode": "overlay",
              "size": 10,
              "solidity": 0.2
             }
            },
            "type": "bar"
           }
          ],
          "barpolar": [
           {
            "marker": {
             "line": {
              "color": "#E5ECF6",
              "width": 0.5
             },
             "pattern": {
              "fillmode": "overlay",
              "size": 10,
              "solidity": 0.2
             }
            },
            "type": "barpolar"
           }
          ],
          "carpet": [
           {
            "aaxis": {
             "endlinecolor": "#2a3f5f",
             "gridcolor": "white",
             "linecolor": "white",
             "minorgridcolor": "white",
             "startlinecolor": "#2a3f5f"
            },
            "baxis": {
             "endlinecolor": "#2a3f5f",
             "gridcolor": "white",
             "linecolor": "white",
             "minorgridcolor": "white",
             "startlinecolor": "#2a3f5f"
            },
            "type": "carpet"
           }
          ],
          "choropleth": [
           {
            "colorbar": {
             "outlinewidth": 0,
             "ticks": ""
            },
            "type": "choropleth"
           }
          ],
          "contour": [
           {
            "colorbar": {
             "outlinewidth": 0,
             "ticks": ""
            },
            "colorscale": [
             [
              0,
              "#0d0887"
             ],
             [
              0.1111111111111111,
              "#46039f"
             ],
             [
              0.2222222222222222,
              "#7201a8"
             ],
             [
              0.3333333333333333,
              "#9c179e"
             ],
             [
              0.4444444444444444,
              "#bd3786"
             ],
             [
              0.5555555555555556,
              "#d8576b"
             ],
             [
              0.6666666666666666,
              "#ed7953"
             ],
             [
              0.7777777777777778,
              "#fb9f3a"
             ],
             [
              0.8888888888888888,
              "#fdca26"
             ],
             [
              1,
              "#f0f921"
             ]
            ],
            "type": "contour"
           }
          ],
          "contourcarpet": [
           {
            "colorbar": {
             "outlinewidth": 0,
             "ticks": ""
            },
            "type": "contourcarpet"
           }
          ],
          "heatmap": [
           {
            "colorbar": {
             "outlinewidth": 0,
             "ticks": ""
            },
            "colorscale": [
             [
              0,
              "#0d0887"
             ],
             [
              0.1111111111111111,
              "#46039f"
             ],
             [
              0.2222222222222222,
              "#7201a8"
             ],
             [
              0.3333333333333333,
              "#9c179e"
             ],
             [
              0.4444444444444444,
              "#bd3786"
             ],
             [
              0.5555555555555556,
              "#d8576b"
             ],
             [
              0.6666666666666666,
              "#ed7953"
             ],
             [
              0.7777777777777778,
              "#fb9f3a"
             ],
             [
              0.8888888888888888,
              "#fdca26"
             ],
             [
              1,
              "#f0f921"
             ]
            ],
            "type": "heatmap"
           }
          ],
          "heatmapgl": [
           {
            "colorbar": {
             "outlinewidth": 0,
             "ticks": ""
            },
            "colorscale": [
             [
              0,
              "#0d0887"
             ],
             [
              0.1111111111111111,
              "#46039f"
             ],
             [
              0.2222222222222222,
              "#7201a8"
             ],
             [
              0.3333333333333333,
              "#9c179e"
             ],
             [
              0.4444444444444444,
              "#bd3786"
             ],
             [
              0.5555555555555556,
              "#d8576b"
             ],
             [
              0.6666666666666666,
              "#ed7953"
             ],
             [
              0.7777777777777778,
              "#fb9f3a"
             ],
             [
              0.8888888888888888,
              "#fdca26"
             ],
             [
              1,
              "#f0f921"
             ]
            ],
            "type": "heatmapgl"
           }
          ],
          "histogram": [
           {
            "marker": {
             "pattern": {
              "fillmode": "overlay",
              "size": 10,
              "solidity": 0.2
             }
            },
            "type": "histogram"
           }
          ],
          "histogram2d": [
           {
            "colorbar": {
             "outlinewidth": 0,
             "ticks": ""
            },
            "colorscale": [
             [
              0,
              "#0d0887"
             ],
             [
              0.1111111111111111,
              "#46039f"
             ],
             [
              0.2222222222222222,
              "#7201a8"
             ],
             [
              0.3333333333333333,
              "#9c179e"
             ],
             [
              0.4444444444444444,
              "#bd3786"
             ],
             [
              0.5555555555555556,
              "#d8576b"
             ],
             [
              0.6666666666666666,
              "#ed7953"
             ],
             [
              0.7777777777777778,
              "#fb9f3a"
             ],
             [
              0.8888888888888888,
              "#fdca26"
             ],
             [
              1,
              "#f0f921"
             ]
            ],
            "type": "histogram2d"
           }
          ],
          "histogram2dcontour": [
           {
            "colorbar": {
             "outlinewidth": 0,
             "ticks": ""
            },
            "colorscale": [
             [
              0,
              "#0d0887"
             ],
             [
              0.1111111111111111,
              "#46039f"
             ],
             [
              0.2222222222222222,
              "#7201a8"
             ],
             [
              0.3333333333333333,
              "#9c179e"
             ],
             [
              0.4444444444444444,
              "#bd3786"
             ],
             [
              0.5555555555555556,
              "#d8576b"
             ],
             [
              0.6666666666666666,
              "#ed7953"
             ],
             [
              0.7777777777777778,
              "#fb9f3a"
             ],
             [
              0.8888888888888888,
              "#fdca26"
             ],
             [
              1,
              "#f0f921"
             ]
            ],
            "type": "histogram2dcontour"
           }
          ],
          "mesh3d": [
           {
            "colorbar": {
             "outlinewidth": 0,
             "ticks": ""
            },
            "type": "mesh3d"
           }
          ],
          "parcoords": [
           {
            "line": {
             "colorbar": {
              "outlinewidth": 0,
              "ticks": ""
             }
            },
            "type": "parcoords"
           }
          ],
          "pie": [
           {
            "automargin": true,
            "type": "pie"
           }
          ],
          "scatter": [
           {
            "fillpattern": {
             "fillmode": "overlay",
             "size": 10,
             "solidity": 0.2
            },
            "type": "scatter"
           }
          ],
          "scatter3d": [
           {
            "line": {
             "colorbar": {
              "outlinewidth": 0,
              "ticks": ""
             }
            },
            "marker": {
             "colorbar": {
              "outlinewidth": 0,
              "ticks": ""
             }
            },
            "type": "scatter3d"
           }
          ],
          "scattercarpet": [
           {
            "marker": {
             "colorbar": {
              "outlinewidth": 0,
              "ticks": ""
             }
            },
            "type": "scattercarpet"
           }
          ],
          "scattergeo": [
           {
            "marker": {
             "colorbar": {
              "outlinewidth": 0,
              "ticks": ""
             }
            },
            "type": "scattergeo"
           }
          ],
          "scattergl": [
           {
            "marker": {
             "colorbar": {
              "outlinewidth": 0,
              "ticks": ""
             }
            },
            "type": "scattergl"
           }
          ],
          "scattermapbox": [
           {
            "marker": {
             "colorbar": {
              "outlinewidth": 0,
              "ticks": ""
             }
            },
            "type": "scattermapbox"
           }
          ],
          "scatterpolar": [
           {
            "marker": {
             "colorbar": {
              "outlinewidth": 0,
              "ticks": ""
             }
            },
            "type": "scatterpolar"
           }
          ],
          "scatterpolargl": [
           {
            "marker": {
             "colorbar": {
              "outlinewidth": 0,
              "ticks": ""
             }
            },
            "type": "scatterpolargl"
           }
          ],
          "scatterternary": [
           {
            "marker": {
             "colorbar": {
              "outlinewidth": 0,
              "ticks": ""
             }
            },
            "type": "scatterternary"
           }
          ],
          "surface": [
           {
            "colorbar": {
             "outlinewidth": 0,
             "ticks": ""
            },
            "colorscale": [
             [
              0,
              "#0d0887"
             ],
             [
              0.1111111111111111,
              "#46039f"
             ],
             [
              0.2222222222222222,
              "#7201a8"
             ],
             [
              0.3333333333333333,
              "#9c179e"
             ],
             [
              0.4444444444444444,
              "#bd3786"
             ],
             [
              0.5555555555555556,
              "#d8576b"
             ],
             [
              0.6666666666666666,
              "#ed7953"
             ],
             [
              0.7777777777777778,
              "#fb9f3a"
             ],
             [
              0.8888888888888888,
              "#fdca26"
             ],
             [
              1,
              "#f0f921"
             ]
            ],
            "type": "surface"
           }
          ],
          "table": [
           {
            "cells": {
             "fill": {
              "color": "#EBF0F8"
             },
             "line": {
              "color": "white"
             }
            },
            "header": {
             "fill": {
              "color": "#C8D4E3"
             },
             "line": {
              "color": "white"
             }
            },
            "type": "table"
           }
          ]
         },
         "layout": {
          "annotationdefaults": {
           "arrowcolor": "#2a3f5f",
           "arrowhead": 0,
           "arrowwidth": 1
          },
          "autotypenumbers": "strict",
          "coloraxis": {
           "colorbar": {
            "outlinewidth": 0,
            "ticks": ""
           }
          },
          "colorscale": {
           "diverging": [
            [
             0,
             "#8e0152"
            ],
            [
             0.1,
             "#c51b7d"
            ],
            [
             0.2,
             "#de77ae"
            ],
            [
             0.3,
             "#f1b6da"
            ],
            [
             0.4,
             "#fde0ef"
            ],
            [
             0.5,
             "#f7f7f7"
            ],
            [
             0.6,
             "#e6f5d0"
            ],
            [
             0.7,
             "#b8e186"
            ],
            [
             0.8,
             "#7fbc41"
            ],
            [
             0.9,
             "#4d9221"
            ],
            [
             1,
             "#276419"
            ]
           ],
           "sequential": [
            [
             0,
             "#0d0887"
            ],
            [
             0.1111111111111111,
             "#46039f"
            ],
            [
             0.2222222222222222,
             "#7201a8"
            ],
            [
             0.3333333333333333,
             "#9c179e"
            ],
            [
             0.4444444444444444,
             "#bd3786"
            ],
            [
             0.5555555555555556,
             "#d8576b"
            ],
            [
             0.6666666666666666,
             "#ed7953"
            ],
            [
             0.7777777777777778,
             "#fb9f3a"
            ],
            [
             0.8888888888888888,
             "#fdca26"
            ],
            [
             1,
             "#f0f921"
            ]
           ],
           "sequentialminus": [
            [
             0,
             "#0d0887"
            ],
            [
             0.1111111111111111,
             "#46039f"
            ],
            [
             0.2222222222222222,
             "#7201a8"
            ],
            [
             0.3333333333333333,
             "#9c179e"
            ],
            [
             0.4444444444444444,
             "#bd3786"
            ],
            [
             0.5555555555555556,
             "#d8576b"
            ],
            [
             0.6666666666666666,
             "#ed7953"
            ],
            [
             0.7777777777777778,
             "#fb9f3a"
            ],
            [
             0.8888888888888888,
             "#fdca26"
            ],
            [
             1,
             "#f0f921"
            ]
           ]
          },
          "colorway": [
           "#636efa",
           "#EF553B",
           "#00cc96",
           "#ab63fa",
           "#FFA15A",
           "#19d3f3",
           "#FF6692",
           "#B6E880",
           "#FF97FF",
           "#FECB52"
          ],
          "font": {
           "color": "#2a3f5f"
          },
          "geo": {
           "bgcolor": "white",
           "lakecolor": "white",
           "landcolor": "#E5ECF6",
           "showlakes": true,
           "showland": true,
           "subunitcolor": "white"
          },
          "hoverlabel": {
           "align": "left"
          },
          "hovermode": "closest",
          "mapbox": {
           "style": "light"
          },
          "paper_bgcolor": "white",
          "plot_bgcolor": "#E5ECF6",
          "polar": {
           "angularaxis": {
            "gridcolor": "white",
            "linecolor": "white",
            "ticks": ""
           },
           "bgcolor": "#E5ECF6",
           "radialaxis": {
            "gridcolor": "white",
            "linecolor": "white",
            "ticks": ""
           }
          },
          "scene": {
           "xaxis": {
            "backgroundcolor": "#E5ECF6",
            "gridcolor": "white",
            "gridwidth": 2,
            "linecolor": "white",
            "showbackground": true,
            "ticks": "",
            "zerolinecolor": "white"
           },
           "yaxis": {
            "backgroundcolor": "#E5ECF6",
            "gridcolor": "white",
            "gridwidth": 2,
            "linecolor": "white",
            "showbackground": true,
            "ticks": "",
            "zerolinecolor": "white"
           },
           "zaxis": {
            "backgroundcolor": "#E5ECF6",
            "gridcolor": "white",
            "gridwidth": 2,
            "linecolor": "white",
            "showbackground": true,
            "ticks": "",
            "zerolinecolor": "white"
           }
          },
          "shapedefaults": {
           "line": {
            "color": "#2a3f5f"
           }
          },
          "ternary": {
           "aaxis": {
            "gridcolor": "white",
            "linecolor": "white",
            "ticks": ""
           },
           "baxis": {
            "gridcolor": "white",
            "linecolor": "white",
            "ticks": ""
           },
           "bgcolor": "#E5ECF6",
           "caxis": {
            "gridcolor": "white",
            "linecolor": "white",
            "ticks": ""
           }
          },
          "title": {
           "x": 0.05
          },
          "xaxis": {
           "automargin": true,
           "gridcolor": "white",
           "linecolor": "white",
           "ticks": "",
           "title": {
            "standoff": 15
           },
           "zerolinecolor": "white",
           "zerolinewidth": 2
          },
          "yaxis": {
           "automargin": true,
           "gridcolor": "white",
           "linecolor": "white",
           "ticks": "",
           "title": {
            "standoff": 15
           },
           "zerolinecolor": "white",
           "zerolinewidth": 2
          }
         }
        },
        "title": {
         "text": "Average Price per Acre Lot"
        },
        "xaxis": {
         "anchor": "y",
         "domain": [
          0,
          1
         ],
         "title": {
          "text": "Acre Lot"
         }
        },
        "yaxis": {
         "anchor": "x",
         "domain": [
          0,
          1
         ],
         "title": {
          "text": "Price"
         }
        }
       }
      }
     },
     "metadata": {},
     "output_type": "display_data"
    }
   ],
   "source": [
    "import plotly.express as px\n",
    "\n",
    "df_mean = df.groupby('acre_lot')['price'].mean().reset_index()\n",
    "fig = px.scatter(df_mean, x='acre_lot', y='price', trendline='ols')\n",
    "fig.update_layout(title='Average Price per Acre Lot', xaxis_title='Acre Lot', yaxis_title='Price')\n",
    "fig.show()"
   ]
  },
  {
   "cell_type": "code",
   "execution_count": 12,
   "metadata": {},
   "outputs": [
    {
     "data": {
      "application/vnd.plotly.v1+json": {
       "config": {
        "plotlyServerURL": "https://plot.ly"
       },
       "data": [
        {
         "alignmentgroup": "True",
         "hovertemplate": "state=%{x}<br>count=%{y}<br>bath=%{marker.color}<extra></extra>",
         "legendgroup": "",
         "marker": {
          "color": [
           1,
           2,
           2,
           3,
           2,
           1,
           3,
           1,
           2,
           3,
           3,
           4,
           1,
           2,
           2,
           4,
           2,
           2,
           2,
           4,
           3,
           5,
           1,
           3,
           2,
           4,
           1,
           1,
           1,
           3,
           1,
           1,
           5,
           3,
           3,
           3,
           4,
           5,
           5,
           6,
           4,
           4,
           4,
           4,
           4,
           6,
           2,
           3,
           1,
           5,
           6,
           5,
           5,
           6,
           5,
           2,
           5,
           6,
           3,
           4,
           5,
           1,
           4,
           6,
           6,
           5,
           4,
           3,
           6,
           6,
           6,
           6,
           5,
           2,
           3,
           6
          ],
          "coloraxis": "coloraxis",
          "pattern": {
           "shape": ""
          }
         },
         "name": "",
         "offsetgroup": "",
         "orientation": "v",
         "showlegend": false,
         "textposition": "auto",
         "type": "bar",
         "x": [
          "New York",
          "New Jersey",
          "New York",
          "New Jersey",
          "Massachusetts",
          "New Jersey",
          "New York",
          "Massachusetts",
          "Connecticut",
          "Massachusetts",
          "Connecticut",
          "New Jersey",
          "Connecticut",
          "New Hampshire",
          "Rhode Island",
          "New York",
          "Puerto Rico",
          "Vermont",
          "Maine",
          "Massachusetts",
          "New Hampshire",
          "New Jersey",
          "Rhode Island",
          "Rhode Island",
          "Pennsylvania",
          "Connecticut",
          "Maine",
          "New Hampshire",
          "Puerto Rico",
          "Vermont",
          "Pennsylvania",
          "Vermont",
          "New York",
          "Pennsylvania",
          "Maine",
          "Puerto Rico",
          "New Hampshire",
          "Connecticut",
          "Massachusetts",
          "New Jersey",
          "Vermont",
          "Rhode Island",
          "Pennsylvania",
          "Puerto Rico",
          "Maine",
          "New York",
          "Delaware",
          "Delaware",
          "Delaware",
          "Puerto Rico",
          "Massachusetts",
          "Vermont",
          "New Hampshire",
          "Connecticut",
          "Rhode Island",
          "Virgin Islands",
          "Pennsylvania",
          "Puerto Rico",
          "Virgin Islands",
          "Delaware",
          "Maine",
          "Virgin Islands",
          "Virgin Islands",
          "Vermont",
          "Pennsylvania",
          "Virgin Islands",
          "Georgia",
          "Georgia",
          "Virgin Islands",
          "Maine",
          "New Hampshire",
          "Rhode Island",
          "Delaware",
          "West Virginia",
          "Wyoming",
          "Delaware"
         ],
         "xaxis": "x",
         "y": [
          109520,
          81467,
          66700,
          61130,
          49269,
          44013,
          35697,
          31436,
          30833,
          28057,
          20947,
          20309,
          13677,
          11701,
          11230,
          11214,
          9834,
          8343,
          8304,
          7950,
          7172,
          5943,
          5914,
          5742,
          5634,
          5587,
          5313,
          5008,
          4986,
          4636,
          4397,
          4228,
          3459,
          3343,
          2975,
          2902,
          1454,
          1338,
          1337,
          1297,
          1296,
          1255,
          966,
          876,
          850,
          775,
          714,
          646,
          416,
          404,
          296,
          279,
          242,
          222,
          222,
          191,
          189,
          158,
          124,
          122,
          119,
          73,
          56,
          54,
          50,
          28,
          24,
          24,
          20,
          18,
          15,
          14,
          11,
          5,
          3,
          1
         ],
         "yaxis": "y"
        }
       ],
       "layout": {
        "barmode": "stack",
        "coloraxis": {
         "colorbar": {
          "title": {
           "text": "bath"
          }
         },
         "colorscale": [
          [
           0,
           "#0d0887"
          ],
          [
           0.1111111111111111,
           "#46039f"
          ],
          [
           0.2222222222222222,
           "#7201a8"
          ],
          [
           0.3333333333333333,
           "#9c179e"
          ],
          [
           0.4444444444444444,
           "#bd3786"
          ],
          [
           0.5555555555555556,
           "#d8576b"
          ],
          [
           0.6666666666666666,
           "#ed7953"
          ],
          [
           0.7777777777777778,
           "#fb9f3a"
          ],
          [
           0.8888888888888888,
           "#fdca26"
          ],
          [
           1,
           "#f0f921"
          ]
         ]
        },
        "legend": {
         "tracegroupgap": 0
        },
        "template": {
         "data": {
          "bar": [
           {
            "error_x": {
             "color": "#2a3f5f"
            },
            "error_y": {
             "color": "#2a3f5f"
            },
            "marker": {
             "line": {
              "color": "#E5ECF6",
              "width": 0.5
             },
             "pattern": {
              "fillmode": "overlay",
              "size": 10,
              "solidity": 0.2
             }
            },
            "type": "bar"
           }
          ],
          "barpolar": [
           {
            "marker": {
             "line": {
              "color": "#E5ECF6",
              "width": 0.5
             },
             "pattern": {
              "fillmode": "overlay",
              "size": 10,
              "solidity": 0.2
             }
            },
            "type": "barpolar"
           }
          ],
          "carpet": [
           {
            "aaxis": {
             "endlinecolor": "#2a3f5f",
             "gridcolor": "white",
             "linecolor": "white",
             "minorgridcolor": "white",
             "startlinecolor": "#2a3f5f"
            },
            "baxis": {
             "endlinecolor": "#2a3f5f",
             "gridcolor": "white",
             "linecolor": "white",
             "minorgridcolor": "white",
             "startlinecolor": "#2a3f5f"
            },
            "type": "carpet"
           }
          ],
          "choropleth": [
           {
            "colorbar": {
             "outlinewidth": 0,
             "ticks": ""
            },
            "type": "choropleth"
           }
          ],
          "contour": [
           {
            "colorbar": {
             "outlinewidth": 0,
             "ticks": ""
            },
            "colorscale": [
             [
              0,
              "#0d0887"
             ],
             [
              0.1111111111111111,
              "#46039f"
             ],
             [
              0.2222222222222222,
              "#7201a8"
             ],
             [
              0.3333333333333333,
              "#9c179e"
             ],
             [
              0.4444444444444444,
              "#bd3786"
             ],
             [
              0.5555555555555556,
              "#d8576b"
             ],
             [
              0.6666666666666666,
              "#ed7953"
             ],
             [
              0.7777777777777778,
              "#fb9f3a"
             ],
             [
              0.8888888888888888,
              "#fdca26"
             ],
             [
              1,
              "#f0f921"
             ]
            ],
            "type": "contour"
           }
          ],
          "contourcarpet": [
           {
            "colorbar": {
             "outlinewidth": 0,
             "ticks": ""
            },
            "type": "contourcarpet"
           }
          ],
          "heatmap": [
           {
            "colorbar": {
             "outlinewidth": 0,
             "ticks": ""
            },
            "colorscale": [
             [
              0,
              "#0d0887"
             ],
             [
              0.1111111111111111,
              "#46039f"
             ],
             [
              0.2222222222222222,
              "#7201a8"
             ],
             [
              0.3333333333333333,
              "#9c179e"
             ],
             [
              0.4444444444444444,
              "#bd3786"
             ],
             [
              0.5555555555555556,
              "#d8576b"
             ],
             [
              0.6666666666666666,
              "#ed7953"
             ],
             [
              0.7777777777777778,
              "#fb9f3a"
             ],
             [
              0.8888888888888888,
              "#fdca26"
             ],
             [
              1,
              "#f0f921"
             ]
            ],
            "type": "heatmap"
           }
          ],
          "heatmapgl": [
           {
            "colorbar": {
             "outlinewidth": 0,
             "ticks": ""
            },
            "colorscale": [
             [
              0,
              "#0d0887"
             ],
             [
              0.1111111111111111,
              "#46039f"
             ],
             [
              0.2222222222222222,
              "#7201a8"
             ],
             [
              0.3333333333333333,
              "#9c179e"
             ],
             [
              0.4444444444444444,
              "#bd3786"
             ],
             [
              0.5555555555555556,
              "#d8576b"
             ],
             [
              0.6666666666666666,
              "#ed7953"
             ],
             [
              0.7777777777777778,
              "#fb9f3a"
             ],
             [
              0.8888888888888888,
              "#fdca26"
             ],
             [
              1,
              "#f0f921"
             ]
            ],
            "type": "heatmapgl"
           }
          ],
          "histogram": [
           {
            "marker": {
             "pattern": {
              "fillmode": "overlay",
              "size": 10,
              "solidity": 0.2
             }
            },
            "type": "histogram"
           }
          ],
          "histogram2d": [
           {
            "colorbar": {
             "outlinewidth": 0,
             "ticks": ""
            },
            "colorscale": [
             [
              0,
              "#0d0887"
             ],
             [
              0.1111111111111111,
              "#46039f"
             ],
             [
              0.2222222222222222,
              "#7201a8"
             ],
             [
              0.3333333333333333,
              "#9c179e"
             ],
             [
              0.4444444444444444,
              "#bd3786"
             ],
             [
              0.5555555555555556,
              "#d8576b"
             ],
             [
              0.6666666666666666,
              "#ed7953"
             ],
             [
              0.7777777777777778,
              "#fb9f3a"
             ],
             [
              0.8888888888888888,
              "#fdca26"
             ],
             [
              1,
              "#f0f921"
             ]
            ],
            "type": "histogram2d"
           }
          ],
          "histogram2dcontour": [
           {
            "colorbar": {
             "outlinewidth": 0,
             "ticks": ""
            },
            "colorscale": [
             [
              0,
              "#0d0887"
             ],
             [
              0.1111111111111111,
              "#46039f"
             ],
             [
              0.2222222222222222,
              "#7201a8"
             ],
             [
              0.3333333333333333,
              "#9c179e"
             ],
             [
              0.4444444444444444,
              "#bd3786"
             ],
             [
              0.5555555555555556,
              "#d8576b"
             ],
             [
              0.6666666666666666,
              "#ed7953"
             ],
             [
              0.7777777777777778,
              "#fb9f3a"
             ],
             [
              0.8888888888888888,
              "#fdca26"
             ],
             [
              1,
              "#f0f921"
             ]
            ],
            "type": "histogram2dcontour"
           }
          ],
          "mesh3d": [
           {
            "colorbar": {
             "outlinewidth": 0,
             "ticks": ""
            },
            "type": "mesh3d"
           }
          ],
          "parcoords": [
           {
            "line": {
             "colorbar": {
              "outlinewidth": 0,
              "ticks": ""
             }
            },
            "type": "parcoords"
           }
          ],
          "pie": [
           {
            "automargin": true,
            "type": "pie"
           }
          ],
          "scatter": [
           {
            "fillpattern": {
             "fillmode": "overlay",
             "size": 10,
             "solidity": 0.2
            },
            "type": "scatter"
           }
          ],
          "scatter3d": [
           {
            "line": {
             "colorbar": {
              "outlinewidth": 0,
              "ticks": ""
             }
            },
            "marker": {
             "colorbar": {
              "outlinewidth": 0,
              "ticks": ""
             }
            },
            "type": "scatter3d"
           }
          ],
          "scattercarpet": [
           {
            "marker": {
             "colorbar": {
              "outlinewidth": 0,
              "ticks": ""
             }
            },
            "type": "scattercarpet"
           }
          ],
          "scattergeo": [
           {
            "marker": {
             "colorbar": {
              "outlinewidth": 0,
              "ticks": ""
             }
            },
            "type": "scattergeo"
           }
          ],
          "scattergl": [
           {
            "marker": {
             "colorbar": {
              "outlinewidth": 0,
              "ticks": ""
             }
            },
            "type": "scattergl"
           }
          ],
          "scattermapbox": [
           {
            "marker": {
             "colorbar": {
              "outlinewidth": 0,
              "ticks": ""
             }
            },
            "type": "scattermapbox"
           }
          ],
          "scatterpolar": [
           {
            "marker": {
             "colorbar": {
              "outlinewidth": 0,
              "ticks": ""
             }
            },
            "type": "scatterpolar"
           }
          ],
          "scatterpolargl": [
           {
            "marker": {
             "colorbar": {
              "outlinewidth": 0,
              "ticks": ""
             }
            },
            "type": "scatterpolargl"
           }
          ],
          "scatterternary": [
           {
            "marker": {
             "colorbar": {
              "outlinewidth": 0,
              "ticks": ""
             }
            },
            "type": "scatterternary"
           }
          ],
          "surface": [
           {
            "colorbar": {
             "outlinewidth": 0,
             "ticks": ""
            },
            "colorscale": [
             [
              0,
              "#0d0887"
             ],
             [
              0.1111111111111111,
              "#46039f"
             ],
             [
              0.2222222222222222,
              "#7201a8"
             ],
             [
              0.3333333333333333,
              "#9c179e"
             ],
             [
              0.4444444444444444,
              "#bd3786"
             ],
             [
              0.5555555555555556,
              "#d8576b"
             ],
             [
              0.6666666666666666,
              "#ed7953"
             ],
             [
              0.7777777777777778,
              "#fb9f3a"
             ],
             [
              0.8888888888888888,
              "#fdca26"
             ],
             [
              1,
              "#f0f921"
             ]
            ],
            "type": "surface"
           }
          ],
          "table": [
           {
            "cells": {
             "fill": {
              "color": "#EBF0F8"
             },
             "line": {
              "color": "white"
             }
            },
            "header": {
             "fill": {
              "color": "#C8D4E3"
             },
             "line": {
              "color": "white"
             }
            },
            "type": "table"
           }
          ]
         },
         "layout": {
          "annotationdefaults": {
           "arrowcolor": "#2a3f5f",
           "arrowhead": 0,
           "arrowwidth": 1
          },
          "autotypenumbers": "strict",
          "coloraxis": {
           "colorbar": {
            "outlinewidth": 0,
            "ticks": ""
           }
          },
          "colorscale": {
           "diverging": [
            [
             0,
             "#8e0152"
            ],
            [
             0.1,
             "#c51b7d"
            ],
            [
             0.2,
             "#de77ae"
            ],
            [
             0.3,
             "#f1b6da"
            ],
            [
             0.4,
             "#fde0ef"
            ],
            [
             0.5,
             "#f7f7f7"
            ],
            [
             0.6,
             "#e6f5d0"
            ],
            [
             0.7,
             "#b8e186"
            ],
            [
             0.8,
             "#7fbc41"
            ],
            [
             0.9,
             "#4d9221"
            ],
            [
             1,
             "#276419"
            ]
           ],
           "sequential": [
            [
             0,
             "#0d0887"
            ],
            [
             0.1111111111111111,
             "#46039f"
            ],
            [
             0.2222222222222222,
             "#7201a8"
            ],
            [
             0.3333333333333333,
             "#9c179e"
            ],
            [
             0.4444444444444444,
             "#bd3786"
            ],
            [
             0.5555555555555556,
             "#d8576b"
            ],
            [
             0.6666666666666666,
             "#ed7953"
            ],
            [
             0.7777777777777778,
             "#fb9f3a"
            ],
            [
             0.8888888888888888,
             "#fdca26"
            ],
            [
             1,
             "#f0f921"
            ]
           ],
           "sequentialminus": [
            [
             0,
             "#0d0887"
            ],
            [
             0.1111111111111111,
             "#46039f"
            ],
            [
             0.2222222222222222,
             "#7201a8"
            ],
            [
             0.3333333333333333,
             "#9c179e"
            ],
            [
             0.4444444444444444,
             "#bd3786"
            ],
            [
             0.5555555555555556,
             "#d8576b"
            ],
            [
             0.6666666666666666,
             "#ed7953"
            ],
            [
             0.7777777777777778,
             "#fb9f3a"
            ],
            [
             0.8888888888888888,
             "#fdca26"
            ],
            [
             1,
             "#f0f921"
            ]
           ]
          },
          "colorway": [
           "#636efa",
           "#EF553B",
           "#00cc96",
           "#ab63fa",
           "#FFA15A",
           "#19d3f3",
           "#FF6692",
           "#B6E880",
           "#FF97FF",
           "#FECB52"
          ],
          "font": {
           "color": "#2a3f5f"
          },
          "geo": {
           "bgcolor": "white",
           "lakecolor": "white",
           "landcolor": "#E5ECF6",
           "showlakes": true,
           "showland": true,
           "subunitcolor": "white"
          },
          "hoverlabel": {
           "align": "left"
          },
          "hovermode": "closest",
          "mapbox": {
           "style": "light"
          },
          "paper_bgcolor": "white",
          "plot_bgcolor": "#E5ECF6",
          "polar": {
           "angularaxis": {
            "gridcolor": "white",
            "linecolor": "white",
            "ticks": ""
           },
           "bgcolor": "#E5ECF6",
           "radialaxis": {
            "gridcolor": "white",
            "linecolor": "white",
            "ticks": ""
           }
          },
          "scene": {
           "xaxis": {
            "backgroundcolor": "#E5ECF6",
            "gridcolor": "white",
            "gridwidth": 2,
            "linecolor": "white",
            "showbackground": true,
            "ticks": "",
            "zerolinecolor": "white"
           },
           "yaxis": {
            "backgroundcolor": "#E5ECF6",
            "gridcolor": "white",
            "gridwidth": 2,
            "linecolor": "white",
            "showbackground": true,
            "ticks": "",
            "zerolinecolor": "white"
           },
           "zaxis": {
            "backgroundcolor": "#E5ECF6",
            "gridcolor": "white",
            "gridwidth": 2,
            "linecolor": "white",
            "showbackground": true,
            "ticks": "",
            "zerolinecolor": "white"
           }
          },
          "shapedefaults": {
           "line": {
            "color": "#2a3f5f"
           }
          },
          "ternary": {
           "aaxis": {
            "gridcolor": "white",
            "linecolor": "white",
            "ticks": ""
           },
           "baxis": {
            "gridcolor": "white",
            "linecolor": "white",
            "ticks": ""
           },
           "bgcolor": "#E5ECF6",
           "caxis": {
            "gridcolor": "white",
            "linecolor": "white",
            "ticks": ""
           }
          },
          "title": {
           "x": 0.05
          },
          "xaxis": {
           "automargin": true,
           "gridcolor": "white",
           "linecolor": "white",
           "ticks": "",
           "title": {
            "standoff": 15
           },
           "zerolinecolor": "white",
           "zerolinewidth": 2
          },
          "yaxis": {
           "automargin": true,
           "gridcolor": "white",
           "linecolor": "white",
           "ticks": "",
           "title": {
            "standoff": 15
           },
           "zerolinecolor": "white",
           "zerolinewidth": 2
          }
         }
        },
        "title": {
         "text": "Distribution of State with Bath"
        },
        "xaxis": {
         "anchor": "y",
         "domain": [
          0,
          1
         ],
         "title": {
          "text": "state"
         }
        },
        "yaxis": {
         "anchor": "x",
         "domain": [
          0,
          1
         ],
         "title": {
          "text": "count"
         }
        }
       }
      }
     },
     "metadata": {},
     "output_type": "display_data"
    }
   ],
   "source": [
    "city_bed_count = df.groupby(['state', 'bath']).size().reset_index(name='count')\n",
    "city_bed_count = city_bed_count.sort_values(by='count', ascending=False)\n",
    "fig = px.bar(city_bed_count, x='state', y='count', color='bath', barmode='stack',\n",
    "             title='Distribution of State with Bath',color_discrete_sequence=px.colors.qualitative.Set2)\n",
    "fig.show()"
   ]
  },
  {
   "cell_type": "markdown",
   "metadata": {},
   "source": [
    "\n",
    "The distribution of bedroom and bathroom counts illustrates a clear concentration of properties with higher number in large states like New York and Massachusetts. This aligns with the presence of multiple metropolitan areas and cities, attracting a skilled labor force with increased housing demand, potentially contributing to elevated housing prices in these states. "
   ]
  },
  {
   "cell_type": "code",
   "execution_count": 13,
   "metadata": {},
   "outputs": [
    {
     "data": {
      "image/png": "[encoded data removed]",
      "text/plain": [
       "<Figure size 2000x1000 with 1 Axes>"
      ]
     },
     "metadata": {},
     "output_type": "display_data"
    }
   ],
   "source": [
    "# Create a square_feet function to categorize houses based on their sizes\n",
    "def square_feet(house_size):\n",
    "    if house_size <= 1000:\n",
    "        return 'Tiny (< 1000 sqft)'\n",
    "    elif 1000 < house_size <= 2500:\n",
    "        return 'Medium (> 1000 sqft)'\n",
    "    elif 2500 < house_size <= 5000:\n",
    "        return 'Large (> 2500 sqft)'\n",
    "    else:\n",
    "        return 'Mansion (> 5000 sqft)'\n",
    "\n",
    "# Apply the square_feet function to create a new column 'house_size_category'\n",
    "df['house_size_category'] = df['house_size'].apply(square_feet)\n",
    "\n",
    "# Calculate the average price for each category of houses and group the data\n",
    "grouped_house_sizes = df.groupby(['state', 'house_size_category'])['price'].mean().reset_index()\n",
    "\n",
    "plt.figure(figsize=(20, 10))\n",
    "\n",
    "# Plot the grouped bar chart with additional separation\n",
    "sns.barplot(x='state', y='price', hue='house_size_category', data=grouped_house_sizes, palette=\"Set2\", dodge=1)\n",
    "\n",
    "plt.title('Average Price by State and House Size')\n",
    "plt.xlabel('State')\n",
    "plt.ylabel('Average Price (Thousand USD)')\n",
    "\n",
    "plt.xticks(rotation=45, ha='right')\n",
    "plt.legend(title='House Size Category', bbox_to_anchor=(1.05, 1), loc='upper left')\n",
    "\n",
    "plt.tight_layout(rect=[0, 0, 0.85, 1]) \n",
    "plt.show()\n"
   ]
  },
  {
   "cell_type": "markdown",
   "metadata": {},
   "source": [
    "From the chart, <span style=\"color:#00b377; font-weight:bold;\">New York</span> and <span style=\"color:#00b377; font-weight:bold;\">Massachusetts</span> stand out for recording high prices in the real estate market, particularly for large houses with sizes exceeding 2500 square feet. These states are home to major cities that serve as centers of economic activity and education. <span style=\"color:#00b377; font-weight:bold;\">Virgin Island</span>, on the other hand, has a severely limited supply of housing with very high cost of living due to imported goods."
   ]
  },
  {
   "cell_type": "code",
   "execution_count": 14,
   "metadata": {},
   "outputs": [
    {
     "ename": "NameError",
     "evalue": "name 'grouped_by_state' is not defined",
     "output_type": "error",
     "traceback": [
      "\u001b[0;31m---------------------------------------------------------------------------\u001b[0m",
      "\u001b[0;31mNameError\u001b[0m                                 Traceback (most recent call last)",
      "Cell \u001b[0;32mIn[14], line 10\u001b[0m\n\u001b[1;32m      7\u001b[0m data_by_state \u001b[38;5;241m=\u001b[39m [filtered_data[filtered_data[\u001b[38;5;124m'\u001b[39m\u001b[38;5;124mstate\u001b[39m\u001b[38;5;124m'\u001b[39m] \u001b[38;5;241m==\u001b[39m state][\u001b[38;5;124m'\u001b[39m\u001b[38;5;124mhouse_size\u001b[39m\u001b[38;5;124m'\u001b[39m]\u001b[38;5;241m.\u001b[39mvalues \u001b[38;5;28;01mfor\u001b[39;00m state \u001b[38;5;129;01min\u001b[39;00m top5]\n\u001b[1;32m      9\u001b[0m \u001b[38;5;66;03m# Select the top 5 states with the highest average prices\u001b[39;00m\n\u001b[0;32m---> 10\u001b[0m top_5_states \u001b[38;5;241m=\u001b[39m grouped_by_state\u001b[38;5;241m.\u001b[39mhead(\u001b[38;5;241m5\u001b[39m)\n\u001b[1;32m     12\u001b[0m \u001b[38;5;66;03m# Extract relevant data for plotting\u001b[39;00m\n\u001b[1;32m     13\u001b[0m states \u001b[38;5;241m=\u001b[39m top_5_states[\u001b[38;5;124m'\u001b[39m\u001b[38;5;124mstate_name\u001b[39m\u001b[38;5;124m'\u001b[39m]\n",
      "\u001b[0;31mNameError\u001b[0m: name 'grouped_by_state' is not defined"
     ]
    }
   ],
   "source": [
    "import matplotlib.pyplot as plt\n",
    "from mpl_axes_aligner import align\n",
    "\n",
    "top5=['Massachusetts', 'Wyoming', 'Georgia', 'New York', 'Virgin Islands']\n",
    "filtered_data = df[df['state'].isin(top5)]\n",
    "\n",
    "data_by_state = [filtered_data[filtered_data['state'] == state]['house_size'].values for state in top5]\n",
    "\n",
    "# Select the top 5 states with the highest average prices\n",
    "top_5_states = grouped_by_state.head(5)\n",
    "\n",
    "# Extract relevant data for plotting\n",
    "states = top_5_states['state_name']\n",
    "bed_medians = top_5_states['bed_median']\n",
    "bath_medians = top_5_states['bath_median']\n",
    "house_size_medians = top_5_states['house_size_median']\n",
    "\n",
    "# Set up the figure and axes\n",
    "fig, ax1 = plt.subplots(figsize=(12, 6))\n",
    "\n",
    "# Plotting the bar chart for Bed Median and Bath Median\n",
    "bar_width = 0.2\n",
    "index = range(len(states))\n",
    "bar2 = ax1.bar([i + bar_width for i in index], bed_medians, width=bar_width, label='Bed Median')\n",
    "bar3 = ax1.bar([i + 2 * bar_width for i in index], bath_medians, width=bar_width, label='Bath Median')\n",
    "\n",
    "# Set labels and title for the first y-axis\n",
    "ax1.set_xlabel('States')\n",
    "ax1.set_ylabel('Bed, Bath', color='blue')\n",
    "ax1.set_title('Top 5 States with Highest Average Prices')\n",
    "ax1.set_xticks([i + bar_width for i in index])\n",
    "ax1.set_xticklabels(states)\n",
    "ax1.tick_params(axis='y', labelcolor='blue')\n",
    "ax1.legend(loc='upper left')\n",
    "\n"
   ]
  },
  {
   "cell_type": "markdown",
   "metadata": {},
   "source": [
    "## Mapping\n",
    "\n",
    "To visualize the average housing prices across states on a map, it is essential to define the longitude and latitude coordinates. The geographic data utilized for this project is sourced from the US Census Bureau. "
   ]
  },
  {
   "cell_type": "markdown",
   "metadata": {},
   "source": [
    "First, the average and standard deviation of housing prices and arce_lot are calulated for each state. "
   ]
  },
  {
   "cell_type": "code",
   "execution_count": 16,
   "metadata": {},
   "outputs": [
    {
     "data": {
      "text/html": [
       "<div>\n",
       "<style scoped>\n",
       "    .dataframe tbody tr th:only-of-type {\n",
       "        vertical-align: middle;\n",
       "    }\n",
       "\n",
       "    .dataframe tbody tr th {\n",
       "        vertical-align: top;\n",
       "    }\n",
       "\n",
       "    .dataframe thead th {\n",
       "        text-align: right;\n",
       "    }\n",
       "</style>\n",
       "<table border=\"1\" class=\"dataframe\">\n",
       "  <thead>\n",
       "    <tr style=\"text-align: right;\">\n",
       "      <th></th>\n",
       "      <th>price_mean</th>\n",
       "      <th>price_median</th>\n",
       "      <th>acre_lot_mean</th>\n",
       "      <th>acre_lot_std</th>\n",
       "      <th>bed_median</th>\n",
       "      <th>bath_median</th>\n",
       "      <th>house_size_median</th>\n",
       "      <th>state_name</th>\n",
       "    </tr>\n",
       "    <tr>\n",
       "      <th>state</th>\n",
       "      <th></th>\n",
       "      <th></th>\n",
       "      <th></th>\n",
       "      <th></th>\n",
       "      <th></th>\n",
       "      <th></th>\n",
       "      <th></th>\n",
       "      <th></th>\n",
       "    </tr>\n",
       "  </thead>\n",
       "  <tbody>\n",
       "    <tr>\n",
       "      <th>New York</th>\n",
       "      <td>698321.75</td>\n",
       "      <td>649000.0</td>\n",
       "      <td>0.29</td>\n",
       "      <td>391281.80</td>\n",
       "      <td>2.0</td>\n",
       "      <td>2.0</td>\n",
       "      <td>1164.0</td>\n",
       "      <td>New York</td>\n",
       "    </tr>\n",
       "    <tr>\n",
       "      <th>Massachusetts</th>\n",
       "      <td>604714.07</td>\n",
       "      <td>550000.0</td>\n",
       "      <td>0.51</td>\n",
       "      <td>360118.88</td>\n",
       "      <td>3.0</td>\n",
       "      <td>2.0</td>\n",
       "      <td>1568.0</td>\n",
       "      <td>Massachusetts</td>\n",
       "    </tr>\n",
       "    <tr>\n",
       "      <th>Wyoming</th>\n",
       "      <td>535000.00</td>\n",
       "      <td>535000.0</td>\n",
       "      <td>0.29</td>\n",
       "      <td>0.00</td>\n",
       "      <td>3.0</td>\n",
       "      <td>3.0</td>\n",
       "      <td>1935.0</td>\n",
       "      <td>Wyoming</td>\n",
       "    </tr>\n",
       "    <tr>\n",
       "      <th>New Jersey</th>\n",
       "      <td>495908.94</td>\n",
       "      <td>435000.0</td>\n",
       "      <td>0.31</td>\n",
       "      <td>295281.00</td>\n",
       "      <td>3.0</td>\n",
       "      <td>2.0</td>\n",
       "      <td>1572.0</td>\n",
       "      <td>New Jersey</td>\n",
       "    </tr>\n",
       "    <tr>\n",
       "      <th>Georgia</th>\n",
       "      <td>492703.60</td>\n",
       "      <td>490225.0</td>\n",
       "      <td>0.91</td>\n",
       "      <td>74803.07</td>\n",
       "      <td>5.0</td>\n",
       "      <td>3.5</td>\n",
       "      <td>3388.5</td>\n",
       "      <td>Georgia</td>\n",
       "    </tr>\n",
       "  </tbody>\n",
       "</table>\n",
       "</div>"
      ],
      "text/plain": [
       "               price_mean  price_median  acre_lot_mean  acre_lot_std  \\\n",
       "state                                                                  \n",
       "New York        698321.75      649000.0           0.29     391281.80   \n",
       "Massachusetts   604714.07      550000.0           0.51     360118.88   \n",
       "Wyoming         535000.00      535000.0           0.29          0.00   \n",
       "New Jersey      495908.94      435000.0           0.31     295281.00   \n",
       "Georgia         492703.60      490225.0           0.91      74803.07   \n",
       "\n",
       "               bed_median  bath_median  house_size_median     state_name  \n",
       "state                                                                     \n",
       "New York              2.0          2.0             1164.0       New York  \n",
       "Massachusetts         3.0          2.0             1568.0  Massachusetts  \n",
       "Wyoming               3.0          3.0             1935.0        Wyoming  \n",
       "New Jersey            3.0          2.0             1572.0     New Jersey  \n",
       "Georgia               5.0          3.5             3388.5        Georgia  "
      ]
     },
     "execution_count": 16,
     "metadata": {},
     "output_type": "execute_result"
    }
   ],
   "source": [
    "# Grouping the data by state and calculating the mean and standard deviation of price and acre_lot\n",
    "grouped_by_state = df.groupby(['state']).agg(\n",
    "    price_mean=('price', 'mean'),\n",
    "    price_median=('price', 'median'),\n",
    "    acre_lot_mean=('acre_lot', 'mean'),\n",
    "    acre_lot_std=('price', 'std'),\n",
    "    bed_median=('bed', 'median'), \n",
    "    bath_median=('bath', 'median'), \n",
    "    house_size_median=('house_size', 'median')\n",
    ")\n",
    "grouped_by_state['state_name'] = grouped_by_state.index\n",
    "grouped_by_state = grouped_by_state.round(2)\n",
    "# Presenting the result in descending order\n",
    "grouped_by_state = grouped_by_state.sort_values(by='price_mean', ascending=False)\n",
    "grouped_by_state['state_name'] = grouped_by_state.index\n",
    "grouped_by_state.head()"
   ]
  },
  {
   "cell_type": "markdown",
   "metadata": {},
   "source": [
    "Now, the map is generated. "
   ]
  },
  {
   "cell_type": "code",
   "execution_count": null,
   "metadata": {},
   "outputs": [
    {
     "name": "stderr",
     "output_type": "stream",
     "text": [
      "/var/folders/sc/hghgdjk51pbdrq1vbp6569q00000gn/T/ipykernel_17477/2619246026.py:13: UserWarning: Geometry is in a geographic CRS. Results from 'centroid' are likely incorrect. Use 'GeoSeries.to_crs()' to re-project geometries to a projected CRS before this operation.\n",
      "\n"
     ]
    },
    {
     "data": {
      "image/png": "[encoded data removed]",
      "text/plain": [
       "<Figure size 2000x1000 with 2 Axes>"
      ]
     },
     "metadata": {},
     "output_type": "display_data"
    }
   ],
   "source": [
    "import geopandas as gpd\n",
    "\n",
    "fig, gax = plt.subplots(figsize=(20,10))\n",
    "# Create a second DataFrame with geometric data from US Census Bureau\n",
    "df_states = gpd.read_file('/Users/hanhhieudao/Downloads/states_21basic/states.shp')\n",
    "\n",
    "# Merge the two DataFrames based on the 'state_name' column\n",
    "merged_df = pd.merge(df_states, grouped_by_state, left_on='STATE_NAME', right_on='state_name', how='right')\n",
    "merged_df = merged_df.dropna(subset=['price_mean'])\n",
    "\n",
    "# Plot the merged DataFrame\n",
    "merged_df.plot(ax=gax, column='price_mean', legend=True, cmap='viridis')\n",
    "merged_df['geometry'] = merged_df['geometry'].centroid\n",
    "\n",
    "# Plot the state centroids as purple dots\n",
    "merged_df.plot(ax=gax, color='purple', markersize=5)\n",
    "\n",
    "gax.set_xlabel('longitude')\n",
    "gax.set_ylabel('latitude')\n",
    "plt.title('Mean Prices by State')\n",
    "\n",
    "for x, y, label in zip(merged_df['geometry'].x, merged_df['geometry'].y, merged_df['state_name']):\n",
    "    gax.annotate(label, xy=(x,y), xytext=(4,4), textcoords='offset points')\n",
    "\n",
    "gax.spines['top'].set_visible(False)\n",
    "gax.spines['right'].set_visible(False)\n",
    "plt.show()"
   ]
  },
  {
   "cell_type": "markdown",
   "metadata": {},
   "source": [
    "The map visualization distinctly portrays Massachusetts and New York with notably high housing prices, indicating strong real estate markets likely driven by urban demand, economic activity, and social demographics. In contrast, West Virginia emerges as a region with comparatively lower housing prices, potentially reflecting a distinct economic landscape and lower demand dynamics within the state's housing market. Since the dataset lacks a large number of states on the West Coast, data might be insufficient to understand thoroughly the US housing market. California, for example, is a large states with outstanding entertainment activities and economic status, is missing from this data and might not contribute a comprehensive view to the analysis. "
   ]
  },
  {
   "cell_type": "markdown",
   "metadata": {},
   "source": [
    "## Social Demographics"
   ]
  },
  {
   "cell_type": "code",
   "execution_count": null,
   "metadata": {},
   "outputs": [
    {
     "data": {
      "text/html": [
       "<div>\n",
       "<style scoped>\n",
       "    .dataframe tbody tr th:only-of-type {\n",
       "        vertical-align: middle;\n",
       "    }\n",
       "\n",
       "    .dataframe tbody tr th {\n",
       "        vertical-align: top;\n",
       "    }\n",
       "\n",
       "    .dataframe thead th {\n",
       "        text-align: right;\n",
       "    }\n",
       "</style>\n",
       "<table border=\"1\" class=\"dataframe\">\n",
       "  <thead>\n",
       "    <tr style=\"text-align: right;\">\n",
       "      <th></th>\n",
       "      <th>GEO_ID</th>\n",
       "      <th>NAME</th>\n",
       "      <th>DP1_0001C</th>\n",
       "      <th>DP1_0002C</th>\n",
       "      <th>DP1_0003C</th>\n",
       "      <th>DP1_0004C</th>\n",
       "      <th>DP1_0005C</th>\n",
       "      <th>DP1_0006C</th>\n",
       "      <th>DP1_0007C</th>\n",
       "      <th>DP1_0008C</th>\n",
       "      <th>...</th>\n",
       "      <th>DP1_0152P</th>\n",
       "      <th>DP1_0153P</th>\n",
       "      <th>DP1_0154P</th>\n",
       "      <th>DP1_0155P</th>\n",
       "      <th>DP1_0156P</th>\n",
       "      <th>DP1_0157P</th>\n",
       "      <th>DP1_0158P</th>\n",
       "      <th>DP1_0159P</th>\n",
       "      <th>DP1_0160P</th>\n",
       "      <th>Unnamed: 322</th>\n",
       "    </tr>\n",
       "  </thead>\n",
       "  <tbody>\n",
       "    <tr>\n",
       "      <th>0</th>\n",
       "      <td>0400000US01</td>\n",
       "      <td>Alabama</td>\n",
       "      <td>5024279</td>\n",
       "      <td>286529</td>\n",
       "      <td>302637</td>\n",
       "      <td>325031</td>\n",
       "      <td>338475</td>\n",
       "      <td>345931</td>\n",
       "      <td>314244</td>\n",
       "      <td>311116</td>\n",
       "      <td>...</td>\n",
       "      <td>1.0</td>\n",
       "      <td>0.5</td>\n",
       "      <td>2.5</td>\n",
       "      <td>4.6</td>\n",
       "      <td>(X)</td>\n",
       "      <td>(X)</td>\n",
       "      <td>100.0</td>\n",
       "      <td>67.7</td>\n",
       "      <td>32.3</td>\n",
       "      <td>NaN</td>\n",
       "    </tr>\n",
       "    <tr>\n",
       "      <th>1</th>\n",
       "      <td>0400000US02</td>\n",
       "      <td>Alaska</td>\n",
       "      <td>733391</td>\n",
       "      <td>48104</td>\n",
       "      <td>51054</td>\n",
       "      <td>51344</td>\n",
       "      <td>47433</td>\n",
       "      <td>49456</td>\n",
       "      <td>55058</td>\n",
       "      <td>56981</td>\n",
       "      <td>...</td>\n",
       "      <td>1.0</td>\n",
       "      <td>0.4</td>\n",
       "      <td>9.1</td>\n",
       "      <td>3.6</td>\n",
       "      <td>(X)</td>\n",
       "      <td>(X)</td>\n",
       "      <td>100.0</td>\n",
       "      <td>63.9</td>\n",
       "      <td>36.1</td>\n",
       "      <td>NaN</td>\n",
       "    </tr>\n",
       "    <tr>\n",
       "      <th>2</th>\n",
       "      <td>0400000US04</td>\n",
       "      <td>Arizona</td>\n",
       "      <td>7151502</td>\n",
       "      <td>392370</td>\n",
       "      <td>443878</td>\n",
       "      <td>485297</td>\n",
       "      <td>485891</td>\n",
       "      <td>477713</td>\n",
       "      <td>473578</td>\n",
       "      <td>462909</td>\n",
       "      <td>...</td>\n",
       "      <td>1.0</td>\n",
       "      <td>0.4</td>\n",
       "      <td>5.9</td>\n",
       "      <td>1.7</td>\n",
       "      <td>(X)</td>\n",
       "      <td>(X)</td>\n",
       "      <td>100.0</td>\n",
       "      <td>65.3</td>\n",
       "      <td>34.7</td>\n",
       "      <td>NaN</td>\n",
       "    </tr>\n",
       "    <tr>\n",
       "      <th>3</th>\n",
       "      <td>0400000US05</td>\n",
       "      <td>Arkansas</td>\n",
       "      <td>3011524</td>\n",
       "      <td>179575</td>\n",
       "      <td>192794</td>\n",
       "      <td>205837</td>\n",
       "      <td>204915</td>\n",
       "      <td>198109</td>\n",
       "      <td>188836</td>\n",
       "      <td>190366</td>\n",
       "      <td>...</td>\n",
       "      <td>1.1</td>\n",
       "      <td>0.7</td>\n",
       "      <td>2.4</td>\n",
       "      <td>4.3</td>\n",
       "      <td>(X)</td>\n",
       "      <td>(X)</td>\n",
       "      <td>100.0</td>\n",
       "      <td>65.0</td>\n",
       "      <td>35.0</td>\n",
       "      <td>NaN</td>\n",
       "    </tr>\n",
       "    <tr>\n",
       "      <th>4</th>\n",
       "      <td>0400000US06</td>\n",
       "      <td>California</td>\n",
       "      <td>39538223</td>\n",
       "      <td>2137439</td>\n",
       "      <td>2393219</td>\n",
       "      <td>2613891</td>\n",
       "      <td>2644071</td>\n",
       "      <td>2731553</td>\n",
       "      <td>2915258</td>\n",
       "      <td>2911574</td>\n",
       "      <td>...</td>\n",
       "      <td>0.5</td>\n",
       "      <td>0.2</td>\n",
       "      <td>2.1</td>\n",
       "      <td>1.3</td>\n",
       "      <td>(X)</td>\n",
       "      <td>(X)</td>\n",
       "      <td>100.0</td>\n",
       "      <td>54.5</td>\n",
       "      <td>45.5</td>\n",
       "      <td>NaN</td>\n",
       "    </tr>\n",
       "  </tbody>\n",
       "</table>\n",
       "<p>5 rows × 323 columns</p>\n",
       "</div>"
      ],
      "text/plain": [
       "        GEO_ID        NAME  DP1_0001C  DP1_0002C  DP1_0003C  DP1_0004C  \\\n",
       "0  0400000US01     Alabama    5024279     286529     302637     325031   \n",
       "1  0400000US02      Alaska     733391      48104      51054      51344   \n",
       "2  0400000US04     Arizona    7151502     392370     443878     485297   \n",
       "3  0400000US05    Arkansas    3011524     179575     192794     205837   \n",
       "4  0400000US06  California   39538223    2137439    2393219    2613891   \n",
       "\n",
       "   DP1_0005C  DP1_0006C  DP1_0007C  DP1_0008C  ...  DP1_0152P  DP1_0153P  \\\n",
       "0     338475     345931     314244     311116  ...        1.0        0.5   \n",
       "1      47433      49456      55058      56981  ...        1.0        0.4   \n",
       "2     485891     477713     473578     462909  ...        1.0        0.4   \n",
       "3     204915     198109     188836     190366  ...        1.1        0.7   \n",
       "4    2644071    2731553    2915258    2911574  ...        0.5        0.2   \n",
       "\n",
       "   DP1_0154P  DP1_0155P  DP1_0156P  DP1_0157P  DP1_0158P  DP1_0159P  \\\n",
       "0        2.5        4.6        (X)        (X)      100.0       67.7   \n",
       "1        9.1        3.6        (X)        (X)      100.0       63.9   \n",
       "2        5.9        1.7        (X)        (X)      100.0       65.3   \n",
       "3        2.4        4.3        (X)        (X)      100.0       65.0   \n",
       "4        2.1        1.3        (X)        (X)      100.0       54.5   \n",
       "\n",
       "   DP1_0160P  Unnamed: 322  \n",
       "0       32.3           NaN  \n",
       "1       36.1           NaN  \n",
       "2       34.7           NaN  \n",
       "3       35.0           NaN  \n",
       "4       45.5           NaN  \n",
       "\n",
       "[5 rows x 323 columns]"
      ]
     },
     "execution_count": 19,
     "metadata": {},
     "output_type": "execute_result"
    }
   ],
   "source": [
    "file_path = '/Users/hanhhieudao/Desktop/ECO225/DECENNIALDP2020.DP1-Data.csv'\n",
    "df_population = pd.read_csv(file_path, skiprows=[1])\n",
    "df_population.head()"
   ]
  },
  {
   "cell_type": "code",
   "execution_count": null,
   "metadata": {},
   "outputs": [
    {
     "data": {
      "text/html": [
       "<div>\n",
       "<style scoped>\n",
       "    .dataframe tbody tr th:only-of-type {\n",
       "        vertical-align: middle;\n",
       "    }\n",
       "\n",
       "    .dataframe tbody tr th {\n",
       "        vertical-align: top;\n",
       "    }\n",
       "\n",
       "    .dataframe thead th {\n",
       "        text-align: right;\n",
       "    }\n",
       "</style>\n",
       "<table border=\"1\" class=\"dataframe\">\n",
       "  <thead>\n",
       "    <tr style=\"text-align: right;\">\n",
       "      <th></th>\n",
       "      <th>NAME</th>\n",
       "      <th>total_population</th>\n",
       "      <th>male</th>\n",
       "      <th>female</th>\n",
       "      <th>White</th>\n",
       "      <th>Black/African</th>\n",
       "      <th>Asian</th>\n",
       "      <th>Hawaiian</th>\n",
       "      <th>price_mean</th>\n",
       "      <th>price_median</th>\n",
       "      <th>acre_lot_mean</th>\n",
       "      <th>acre_lot_std</th>\n",
       "      <th>bed_median</th>\n",
       "      <th>bath_median</th>\n",
       "      <th>house_size_median</th>\n",
       "      <th>state_name</th>\n",
       "    </tr>\n",
       "  </thead>\n",
       "  <tbody>\n",
       "    <tr>\n",
       "      <th>0</th>\n",
       "      <td>Connecticut</td>\n",
       "      <td>3605944</td>\n",
       "      <td>1749853</td>\n",
       "      <td>1856091</td>\n",
       "      <td>2692022</td>\n",
       "      <td>467416</td>\n",
       "      <td>205693</td>\n",
       "      <td>5971</td>\n",
       "      <td>350565.63</td>\n",
       "      <td>284000.0</td>\n",
       "      <td>0.65</td>\n",
       "      <td>250160.64</td>\n",
       "      <td>3.0</td>\n",
       "      <td>2.0</td>\n",
       "      <td>1586.0</td>\n",
       "      <td>Connecticut</td>\n",
       "    </tr>\n",
       "    <tr>\n",
       "      <th>1</th>\n",
       "      <td>Delaware</td>\n",
       "      <td>989948</td>\n",
       "      <td>476719</td>\n",
       "      <td>513229</td>\n",
       "      <td>665198</td>\n",
       "      <td>244944</td>\n",
       "      <td>50969</td>\n",
       "      <td>1547</td>\n",
       "      <td>317346.44</td>\n",
       "      <td>279900.0</td>\n",
       "      <td>0.20</td>\n",
       "      <td>193430.65</td>\n",
       "      <td>3.0</td>\n",
       "      <td>2.0</td>\n",
       "      <td>1750.0</td>\n",
       "      <td>Delaware</td>\n",
       "    </tr>\n",
       "    <tr>\n",
       "      <th>2</th>\n",
       "      <td>Georgia</td>\n",
       "      <td>10711908</td>\n",
       "      <td>5188570</td>\n",
       "      <td>5523338</td>\n",
       "      <td>6212741</td>\n",
       "      <td>3538146</td>\n",
       "      <td>565644</td>\n",
       "      <td>19020</td>\n",
       "      <td>492703.60</td>\n",
       "      <td>490225.0</td>\n",
       "      <td>0.91</td>\n",
       "      <td>74803.07</td>\n",
       "      <td>5.0</td>\n",
       "      <td>3.5</td>\n",
       "      <td>3388.5</td>\n",
       "      <td>Georgia</td>\n",
       "    </tr>\n",
       "    <tr>\n",
       "      <th>3</th>\n",
       "      <td>Maine</td>\n",
       "      <td>1362359</td>\n",
       "      <td>667560</td>\n",
       "      <td>694799</td>\n",
       "      <td>1299963</td>\n",
       "      <td>36304</td>\n",
       "      <td>25473</td>\n",
       "      <td>1619</td>\n",
       "      <td>308005.53</td>\n",
       "      <td>225000.0</td>\n",
       "      <td>0.88</td>\n",
       "      <td>280282.97</td>\n",
       "      <td>3.0</td>\n",
       "      <td>2.0</td>\n",
       "      <td>1560.0</td>\n",
       "      <td>Maine</td>\n",
       "    </tr>\n",
       "    <tr>\n",
       "      <th>4</th>\n",
       "      <td>Massachusetts</td>\n",
       "      <td>7029917</td>\n",
       "      <td>3401702</td>\n",
       "      <td>3628215</td>\n",
       "      <td>5399122</td>\n",
       "      <td>669866</td>\n",
       "      <td>582484</td>\n",
       "      <td>10436</td>\n",
       "      <td>604714.07</td>\n",
       "      <td>550000.0</td>\n",
       "      <td>0.51</td>\n",
       "      <td>360118.88</td>\n",
       "      <td>3.0</td>\n",
       "      <td>2.0</td>\n",
       "      <td>1568.0</td>\n",
       "      <td>Massachusetts</td>\n",
       "    </tr>\n",
       "  </tbody>\n",
       "</table>\n",
       "</div>"
      ],
      "text/plain": [
       "            NAME  total_population     male   female    White  Black/African  \\\n",
       "0    Connecticut           3605944  1749853  1856091  2692022         467416   \n",
       "1       Delaware            989948   476719   513229   665198         244944   \n",
       "2        Georgia          10711908  5188570  5523338  6212741        3538146   \n",
       "3          Maine           1362359   667560   694799  1299963          36304   \n",
       "4  Massachusetts           7029917  3401702  3628215  5399122         669866   \n",
       "\n",
       "    Asian  Hawaiian  price_mean  price_median  acre_lot_mean  acre_lot_std  \\\n",
       "0  205693      5971   350565.63      284000.0           0.65     250160.64   \n",
       "1   50969      1547   317346.44      279900.0           0.20     193430.65   \n",
       "2  565644     19020   492703.60      490225.0           0.91      74803.07   \n",
       "3   25473      1619   308005.53      225000.0           0.88     280282.97   \n",
       "4  582484     10436   604714.07      550000.0           0.51     360118.88   \n",
       "\n",
       "   bed_median  bath_median  house_size_median     state_name  \n",
       "0         3.0          2.0             1586.0    Connecticut  \n",
       "1         3.0          2.0             1750.0       Delaware  \n",
       "2         5.0          3.5             3388.5        Georgia  \n",
       "3         3.0          2.0             1560.0          Maine  \n",
       "4         3.0          2.0             1568.0  Massachusetts  "
      ]
     },
     "execution_count": 20,
     "metadata": {},
     "output_type": "execute_result"
    }
   ],
   "source": [
    "population = df_population[['NAME', 'DP1_0001C', 'DP1_0025C', 'DP1_0049C', 'DP1_0086C', 'DP1_0087C', 'DP1_0089C', 'DP1_0090C']]\n",
    "merged = pd.merge(population, grouped_by_state, left_on='NAME', right_on='state_name', how='inner')\n",
    "merged = merged.rename(columns={'DP1_0001C': 'total_population'})\n",
    "merged= merged.rename(columns={'DP1_0025C': 'male'})\n",
    "merged = merged.rename(columns={'DP1_0049C': 'female'})\n",
    "merged = merged.rename(columns={'DP1_0086C': 'White'})\n",
    "merged = merged.rename(columns={'DP1_0087C': 'Black/African'})\n",
    "merged = merged.rename(columns={'DP1_0089C': 'Asian'})\n",
    "merged = merged.rename(columns={'DP1_0090C': 'Hawaiian'})\n",
    "merged.dropna()\n",
    "merged.head()"
   ]
  },
  {
   "cell_type": "markdown",
   "metadata": {},
   "source": [
    "## The Main Message"
   ]
  },
  {
   "cell_type": "markdown",
   "metadata": {},
   "source": [
    "The plot compares the average housing prices for different racial groups based on their population sizes in 13 states collected from the dataset of US Real Estate Market. It reveals the trends in housing prices concerning population sizes, with regression lines highlighting the correlation with White, Black/African, and Asian groups."
   ]
  },
  {
   "cell_type": "code",
   "execution_count": null,
   "metadata": {},
   "outputs": [
    {
     "data": {
      "image/png": "[encoded data removed]",
      "text/plain": [
       "<Figure size 640x480 with 1 Axes>"
      ]
     },
     "metadata": {},
     "output_type": "display_data"
    }
   ],
   "source": [
    "# Create a figure and axis\n",
    "fig, ax = plt.subplots()\n",
    "x3 = merged['White']\n",
    "y3 = merged['price_mean']\n",
    "x4 = merged['Black/African']\n",
    "y4 = merged['price_mean']\n",
    "x5 = merged['Hawaiian']\n",
    "y5 = merged['price_mean']\n",
    "x6 = merged['Asian']\n",
    "y6 = merged['price_mean']\n",
    "\n",
    "# Scatter plots\n",
    "ax.scatter(x3, y3, c=\"red\", marker=\"*\", edgecolors='black', s=20, label='White')\n",
    "ax.scatter(x4, y4, c=\"blue\", marker=\"h\", edgecolors='black', s=20, label='Black/African')\n",
    "ax.scatter(x6, y6, c=\"green\", marker=\"o\", edgecolors='black', s=20, label='Asian')\n",
    "\n",
    "#Regression lines\n",
    "m3, b3 = np.polyfit(x3, y3, 1)\n",
    "plt.plot(x3, m3*x3+b3, color='red', linewidth=1, label='White')\n",
    "m4, b4 = np.polyfit(x4, y4, 1)\n",
    "plt.plot(x4, m4*x4+b4, color='blue', linewidth=1, label='Black/African')\n",
    "m6, b6 = np.polyfit(x6, y6, 1)\n",
    "plt.plot(x6, m6*x6+b6, color='green', linewidth=1, label='Asian')\n",
    "\n",
    "ax.set_xlabel(\"Population\")\n",
    "ax.set_ylabel(\"Average Housing Price\")\n",
    "\n",
    "ax.legend()\n",
    "plt.show()\n"
   ]
  },
  {
   "cell_type": "markdown",
   "metadata": {},
   "source": [
    "From the plotted regression lines, the Asian community exhibits the steepest slope, indicating a highest correlation of population size with housing prices. This finding suggests further exploration into the potential social factors contributing to the impact of Asian group on the US Real Estate Market. Some possible determinants include household income and employment rate can bright meaningful insights of their purchasing power and its effect on US property demand and prices.\n",
    "\n",
    "Following the Asian population, the Black/African group displays a moderately steep slope, indicative of a positive correlation with housing prices. Conversely, the regression line for the White population demonstrates a gradual slope, suggesting a comparatively weaker correlation between White population size and housing prices.\n",
    "\n",
    " Notably, despite the lower population size of the Asian community in most states compared to the White population, the housing prices associated with Asian group are marked higher. This observation indicates a deeper study on the disproportionate impact of Asian demographic on the US real estate market. "
   ]
  },
  {
   "cell_type": "code",
   "execution_count": null,
   "metadata": {},
   "outputs": [
    {
     "data": {
      "text/html": [
       "<div>\n",
       "<style scoped>\n",
       "    .dataframe tbody tr th:only-of-type {\n",
       "        vertical-align: middle;\n",
       "    }\n",
       "\n",
       "    .dataframe tbody tr th {\n",
       "        vertical-align: top;\n",
       "    }\n",
       "\n",
       "    .dataframe thead th {\n",
       "        text-align: right;\n",
       "    }\n",
       "</style>\n",
       "<table border=\"1\" class=\"dataframe\">\n",
       "  <thead>\n",
       "    <tr style=\"text-align: right;\">\n",
       "      <th></th>\n",
       "      <th>price_mean</th>\n",
       "      <th>price_median</th>\n",
       "      <th>acre_lot_mean</th>\n",
       "      <th>acre_lot_std</th>\n",
       "      <th>bed_median</th>\n",
       "      <th>bath_median</th>\n",
       "      <th>house_size_median</th>\n",
       "      <th>city_name</th>\n",
       "    </tr>\n",
       "    <tr>\n",
       "      <th>city</th>\n",
       "      <th></th>\n",
       "      <th></th>\n",
       "      <th></th>\n",
       "      <th></th>\n",
       "      <th></th>\n",
       "      <th></th>\n",
       "      <th></th>\n",
       "      <th></th>\n",
       "    </tr>\n",
       "  </thead>\n",
       "  <tbody>\n",
       "    <tr>\n",
       "      <th>Waterfront</th>\n",
       "      <td>12000000.00</td>\n",
       "      <td>12000000.0</td>\n",
       "      <td>NaN</td>\n",
       "      <td>0.00</td>\n",
       "      <td>4.0</td>\n",
       "      <td>7.0</td>\n",
       "      <td>7230.0</td>\n",
       "      <td>Waterfront</td>\n",
       "    </tr>\n",
       "    <tr>\n",
       "      <th>Rochdale Village</th>\n",
       "      <td>9800000.00</td>\n",
       "      <td>9800000.0</td>\n",
       "      <td>2.50</td>\n",
       "      <td>0.00</td>\n",
       "      <td>7.0</td>\n",
       "      <td>8.0</td>\n",
       "      <td>15000.0</td>\n",
       "      <td>Rochdale Village</td>\n",
       "    </tr>\n",
       "    <tr>\n",
       "      <th>Middletown Township</th>\n",
       "      <td>9199999.50</td>\n",
       "      <td>9199999.5</td>\n",
       "      <td>0.09</td>\n",
       "      <td>9092195.00</td>\n",
       "      <td>5.0</td>\n",
       "      <td>6.0</td>\n",
       "      <td>NaN</td>\n",
       "      <td>Middletown Township</td>\n",
       "    </tr>\n",
       "    <tr>\n",
       "      <th>Waccabuc</th>\n",
       "      <td>8864814.81</td>\n",
       "      <td>5950000.0</td>\n",
       "      <td>31.16</td>\n",
       "      <td>3784198.29</td>\n",
       "      <td>4.0</td>\n",
       "      <td>7.0</td>\n",
       "      <td>7725.0</td>\n",
       "      <td>Waccabuc</td>\n",
       "    </tr>\n",
       "    <tr>\n",
       "      <th>Woods Hole</th>\n",
       "      <td>8583000.00</td>\n",
       "      <td>2600000.0</td>\n",
       "      <td>1.81</td>\n",
       "      <td>9710174.57</td>\n",
       "      <td>5.0</td>\n",
       "      <td>4.0</td>\n",
       "      <td>3803.0</td>\n",
       "      <td>Woods Hole</td>\n",
       "    </tr>\n",
       "  </tbody>\n",
       "</table>\n",
       "</div>"
      ],
      "text/plain": [
       "                      price_mean  price_median  acre_lot_mean  acre_lot_std  \\\n",
       "city                                                                          \n",
       "Waterfront           12000000.00    12000000.0            NaN          0.00   \n",
       "Rochdale Village      9800000.00     9800000.0           2.50          0.00   \n",
       "Middletown Township   9199999.50     9199999.5           0.09    9092195.00   \n",
       "Waccabuc              8864814.81     5950000.0          31.16    3784198.29   \n",
       "Woods Hole            8583000.00     2600000.0           1.81    9710174.57   \n",
       "\n",
       "                     bed_median  bath_median  house_size_median  \\\n",
       "city                                                              \n",
       "Waterfront                  4.0          7.0             7230.0   \n",
       "Rochdale Village            7.0          8.0            15000.0   \n",
       "Middletown Township         5.0          6.0                NaN   \n",
       "Waccabuc                    4.0          7.0             7725.0   \n",
       "Woods Hole                  5.0          4.0             3803.0   \n",
       "\n",
       "                               city_name  \n",
       "city                                      \n",
       "Waterfront                    Waterfront  \n",
       "Rochdale Village        Rochdale Village  \n",
       "Middletown Township  Middletown Township  \n",
       "Waccabuc                        Waccabuc  \n",
       "Woods Hole                    Woods Hole  "
      ]
     },
     "execution_count": 112,
     "metadata": {},
     "output_type": "execute_result"
    }
   ],
   "source": [
    "# Grouping the data by state and calculating the mean and standard deviation of price and acre_lot\n",
    "grouped_by_city = df.groupby(['city']).agg(\n",
    "    price_mean=('price', 'mean'),\n",
    "    price_median=('price', 'median'),\n",
    "    acre_lot_mean=('acre_lot', 'mean'),\n",
    "    acre_lot_std=('price', 'std'),\n",
    "    bed_median=('bed', 'median'), \n",
    "    bath_median=('bath', 'median'), \n",
    "    house_size_median=('house_size', 'median')\n",
    ")\n",
    "grouped_by_city['city_name'] = grouped_by_city.index\n",
    "grouped_by_city = grouped_by_city.round(2)\n",
    "# Presenting the result in descending order\n",
    "grouped_by_city = grouped_by_city.sort_values(by='price_mean', ascending=False)\n",
    "grouped_by_city.head()"
   ]
  },
  {
   "cell_type": "code",
   "execution_count": null,
   "metadata": {},
   "outputs": [
    {
     "data": {
      "text/html": [
       "<div>\n",
       "<style scoped>\n",
       "    .dataframe tbody tr th:only-of-type {\n",
       "        vertical-align: middle;\n",
       "    }\n",
       "\n",
       "    .dataframe tbody tr th {\n",
       "        vertical-align: top;\n",
       "    }\n",
       "\n",
       "    .dataframe thead th {\n",
       "        text-align: right;\n",
       "    }\n",
       "</style>\n",
       "<table border=\"1\" class=\"dataframe\">\n",
       "  <thead>\n",
       "    <tr style=\"text-align: right;\">\n",
       "      <th></th>\n",
       "      <th>City</th>\n",
       "      <th>ST</th>\n",
       "      <th>2022</th>\n",
       "      <th>2020</th>\n",
       "      <th>Change</th>\n",
       "      <th>mi^2</th>\n",
       "      <th>km^2</th>\n",
       "      <th>mi</th>\n",
       "      <th>km</th>\n",
       "      <th>location</th>\n",
       "    </tr>\n",
       "  </thead>\n",
       "  <tbody>\n",
       "    <tr>\n",
       "      <th>0</th>\n",
       "      <td>New York</td>\n",
       "      <td>NY</td>\n",
       "      <td>8,335,897</td>\n",
       "      <td>8,804,190</td>\n",
       "      <td>−5.32%</td>\n",
       "      <td>300.5</td>\n",
       "      <td>778.3</td>\n",
       "      <td>29,298</td>\n",
       "      <td>11,312</td>\n",
       "      <td>40°40′N 73°56′W﻿ / ﻿40.66°N 73.94°W﻿ / 40.66; ...</td>\n",
       "    </tr>\n",
       "    <tr>\n",
       "      <th>1</th>\n",
       "      <td>Los Angeles</td>\n",
       "      <td>CA</td>\n",
       "      <td>3,822,238</td>\n",
       "      <td>3,898,747</td>\n",
       "      <td>−1.96%</td>\n",
       "      <td>469.5</td>\n",
       "      <td>1,216.0</td>\n",
       "      <td>8,304</td>\n",
       "      <td>3,206</td>\n",
       "      <td>34°01′N 118°25′W﻿ / ﻿34.02°N 118.41°W﻿ / 34.02...</td>\n",
       "    </tr>\n",
       "  </tbody>\n",
       "</table>\n",
       "</div>"
      ],
      "text/plain": [
       "          City  ST       2022       2020  Change   mi^2     km^2      mi  \\\n",
       "0     New York  NY  8,335,897  8,804,190  −5.32%  300.5    778.3  29,298   \n",
       "1  Los Angeles  CA  3,822,238  3,898,747  −1.96%  469.5  1,216.0   8,304   \n",
       "\n",
       "       km                                           location  \n",
       "0  11,312  40°40′N 73°56′W﻿ / ﻿40.66°N 73.94°W﻿ / 40.66; ...  \n",
       "1   3,206  34°01′N 118°25′W﻿ / ﻿34.02°N 118.41°W﻿ / 34.02...  "
      ]
     },
     "execution_count": 130,
     "metadata": {},
     "output_type": "execute_result"
    }
   ],
   "source": [
    "import pandas as pd\n",
    "from bs4 import BeautifulSoup\n",
    "import requests\n",
    "\n",
    "url = \"https://en.wikipedia.org/wiki/List_of_United_States_cities_by_population\"\n",
    "response = requests.get(url)\n",
    "soup = BeautifulSoup(response.text, \"html.parser\")\n",
    "\n",
    "pol_tables = soup.find_all(\"table\", {\"class\": \"wikitable\"})\n",
    "data = []\n",
    "for table in pol_tables:\n",
    "    for row in table.find_all(\"tr\")[1:]:\n",
    "        columns = row.find_all([\"th\", \"td\"])\n",
    "        pol_data = [column.text.strip() for column in columns]\n",
    "        data.append(pol_data)\n",
    "pol_columns = ['City', 'ST', '2022', '2020', 'Change', 'mi^2', 'km^2', 'mi', 'km','location' ]\n",
    "pol_df = pd.DataFrame(data, columns=pol_columns)\n",
    "pol_df = pol_df[~pol_df.apply(lambda row: row.astype(str).str.contains('None').any(), axis=1)]\n",
    "pol_df['City'] = pol_df['City'].str.replace(r'\\[.*\\]', '', regex=True)\n",
    "pol_df.reset_index(drop=True, inplace=True)\n",
    "pol_df.head(2)"
   ]
  },
  {
   "cell_type": "markdown",
   "metadata": {},
   "source": [
    "## Project Three"
   ]
  },
  {
   "cell_type": "markdown",
   "metadata": {},
   "source": [
    "### Part Two"
   ]
  },
  {
   "cell_type": "markdown",
   "metadata": {},
   "source": [
    "(1) How do the economy and housing market have a strong correlation?\n",
    "The state of the economy plays a pivotal role in determining the price of a house. Economic health is measured by indicators such as GDP, employment rates,inflation rates, and many other variables. The dynamics of the US housing market, as reflected by 2 key metrics: Median Listing Price (MLP), which represents Supply, and the Median Sale Price (MSP), which reflects Demand, are significantly impacted by real GDP and CPI (Vaidynathan et al., 2023). In addition, the impact of economic indicators varies across different types of real estate, thus impacts on market value of a house in different ways (Sagalyn, 1990). Understanding price fluctuations in houses requires an analysis in not only macroeconomic indicators across states and US territories but also the specifiy property features. \n",
    "\n",
    "(2) Data sources and HTML-based web-scraping technique\n",
    "The economic indicators are obtained by HTML-based web-scarping method. This technique is very useful because it can extract real-time data from websites and provides up-to-date infromation. Besides, it allows users to access a large amount of data from various fields that are a rich sources for analysis and inisghts. The selected variables are Real GDP growth rate (2021-2022), Nominal GDP (2022-2023), CPI, and household income. \n",
    "Source of data: https://en.wikipedia.org/wiki/List_of_U.S._states_and_territories_by_GDP (Wikipedia) \n",
    "\n",
    "(3) Data merging and how it is helful for the reqsearch question\n",
    "Merging datasets containing economic indicators would help to make analyses comprehensive and uncover uncover underlying patterns in housing prices. Moreover, incorporating demographic data and regional factors into analyses also signals future changes in housing market conditions. \n",
    "\n",
    "Below is step-by-step process of web-scraping to gather data, merge external variables, and visualize them in analytical plots. \n",
    "\n"
   ]
  },
  {
   "cell_type": "markdown",
   "metadata": {},
   "source": [
    "* Step 1: Import necessary libraries for HTML scraping. "
   ]
  },
  {
   "cell_type": "code",
   "execution_count": 19,
   "metadata": {},
   "outputs": [],
   "source": [
    "import pandas as pd\n",
    "from bs4 import BeautifulSoup"
   ]
  },
  {
   "cell_type": "markdown",
   "metadata": {},
   "source": [
    "* Step 2: Store the URL of the page used for scraping. Here, the page is from Wikipedia. Then parse the HTML content using BeautifulSoup package and find all the tables with the class 'wikitable' on the page. "
   ]
  },
  {
   "cell_type": "code",
   "execution_count": 21,
   "metadata": {},
   "outputs": [],
   "source": [
    "import requests\n",
    "\n",
    "url = \"https://en.wikipedia.org/wiki/List_of_U.S._states_and_territories_by_income\"\n",
    "response = requests.get(url)\n",
    "soup = BeautifulSoup(response.text, \"html.parser\")\n",
    "\n",
    "tables = soup.find_all(\"table\", {\"class\": \"wikitable\"})"
   ]
  },
  {
   "cell_type": "markdown",
   "metadata": {},
   "source": [
    "* Step 3: Iterate through each table and each row to extract data from each cell. "
   ]
  },
  {
   "cell_type": "code",
   "execution_count": 22,
   "metadata": {},
   "outputs": [],
   "source": [
    "data = []\n",
    "for table in tables[:2]:\n",
    "    for row in table.find_all(\"tr\")[1:]:\n",
    "        columns = row.find_all([\"th\", \"td\"])\n",
    "        state_income = [column.text.strip() for column in columns]\n",
    "        data.append(state_income)"
   ]
  },
  {
   "cell_type": "markdown",
   "metadata": {},
   "source": [
    "* Step 4: Create a new data frame named 'incomedf' for the extracted data and specify column names."
   ]
  },
  {
   "cell_type": "code",
   "execution_count": 23,
   "metadata": {},
   "outputs": [
    {
     "data": {
      "text/html": [
       "<div>\n",
       "<style scoped>\n",
       "    .dataframe tbody tr th:only-of-type {\n",
       "        vertical-align: middle;\n",
       "    }\n",
       "\n",
       "    .dataframe tbody tr th {\n",
       "        vertical-align: top;\n",
       "    }\n",
       "\n",
       "    .dataframe thead th {\n",
       "        text-align: right;\n",
       "    }\n",
       "</style>\n",
       "<table border=\"1\" class=\"dataframe\">\n",
       "  <thead>\n",
       "    <tr style=\"text-align: right;\">\n",
       "      <th></th>\n",
       "      <th>State Rank</th>\n",
       "      <th>State</th>\n",
       "      <th>2021</th>\n",
       "      <th>2019</th>\n",
       "      <th>2018</th>\n",
       "      <th>2017</th>\n",
       "      <th>2016</th>\n",
       "      <th>2015</th>\n",
       "      <th>2014</th>\n",
       "      <th>2013</th>\n",
       "      <th>2012</th>\n",
       "      <th>2011</th>\n",
       "      <th>2010</th>\n",
       "      <th>Average Annual Growth Rate</th>\n",
       "    </tr>\n",
       "  </thead>\n",
       "  <tbody>\n",
       "    <tr>\n",
       "      <th>0</th>\n",
       "      <td></td>\n",
       "      <td>United States</td>\n",
       "      <td>$69,717</td>\n",
       "      <td>$65,712</td>\n",
       "      <td>$63,179</td>\n",
       "      <td>$60,336</td>\n",
       "      <td>$57,617</td>\n",
       "      <td>$55,775</td>\n",
       "      <td>$53,657</td>\n",
       "      <td>$52,250</td>\n",
       "      <td>$51,371</td>\n",
       "      <td>$50,502</td>\n",
       "      <td>$50,046</td>\n",
       "      <td>3.07%</td>\n",
       "    </tr>\n",
       "    <tr>\n",
       "      <th>1</th>\n",
       "      <td>–</td>\n",
       "      <td>Washington, D.C.</td>\n",
       "      <td>$90,088</td>\n",
       "      <td>$92,266</td>\n",
       "      <td>$85,203</td>\n",
       "      <td>$82,372</td>\n",
       "      <td>$75,506</td>\n",
       "      <td>$75,628</td>\n",
       "      <td>$71,648</td>\n",
       "      <td>$67,572</td>\n",
       "      <td>$66,583</td>\n",
       "      <td>$63,124</td>\n",
       "      <td>$60,903</td>\n",
       "      <td>3.68%</td>\n",
       "    </tr>\n",
       "    <tr>\n",
       "      <th>2</th>\n",
       "      <td>1</td>\n",
       "      <td>Maryland</td>\n",
       "      <td>$90,203</td>\n",
       "      <td>$86,738</td>\n",
       "      <td>$83,242</td>\n",
       "      <td>$80,776</td>\n",
       "      <td>$78,945</td>\n",
       "      <td>$75,847</td>\n",
       "      <td>$73,971</td>\n",
       "      <td>$72,483</td>\n",
       "      <td>$71,122</td>\n",
       "      <td>$70,004</td>\n",
       "      <td>$68,854</td>\n",
       "      <td>2.49%</td>\n",
       "    </tr>\n",
       "    <tr>\n",
       "      <th>3</th>\n",
       "      <td>2</td>\n",
       "      <td>Massachusetts</td>\n",
       "      <td>$89,645</td>\n",
       "      <td>$85,843</td>\n",
       "      <td>$79,835</td>\n",
       "      <td>$77,385</td>\n",
       "      <td>$75,297</td>\n",
       "      <td>$70,628</td>\n",
       "      <td>$69,160</td>\n",
       "      <td>$66,768</td>\n",
       "      <td>$65,339</td>\n",
       "      <td>$62,859</td>\n",
       "      <td>$62,072</td>\n",
       "      <td>3.41%</td>\n",
       "    </tr>\n",
       "    <tr>\n",
       "      <th>4</th>\n",
       "      <td>3</td>\n",
       "      <td>New Jersey</td>\n",
       "      <td>$89,296</td>\n",
       "      <td>$85,751</td>\n",
       "      <td>$81,740</td>\n",
       "      <td>$80,088</td>\n",
       "      <td>$76,126</td>\n",
       "      <td>$72,222</td>\n",
       "      <td>$71,919</td>\n",
       "      <td>$70,165</td>\n",
       "      <td>$69,667</td>\n",
       "      <td>$67,458</td>\n",
       "      <td>$67,681</td>\n",
       "      <td>2.57%</td>\n",
       "    </tr>\n",
       "  </tbody>\n",
       "</table>\n",
       "</div>"
      ],
      "text/plain": [
       "  State Rank             State     2021     2019     2018     2017     2016  \\\n",
       "0                United States  $69,717  $65,712  $63,179  $60,336  $57,617   \n",
       "1          –  Washington, D.C.  $90,088  $92,266  $85,203  $82,372  $75,506   \n",
       "2          1          Maryland  $90,203  $86,738  $83,242  $80,776  $78,945   \n",
       "3          2     Massachusetts  $89,645  $85,843  $79,835  $77,385  $75,297   \n",
       "4          3        New Jersey  $89,296  $85,751  $81,740  $80,088  $76,126   \n",
       "\n",
       "      2015     2014     2013     2012     2011     2010  \\\n",
       "0  $55,775  $53,657  $52,250  $51,371  $50,502  $50,046   \n",
       "1  $75,628  $71,648  $67,572  $66,583  $63,124  $60,903   \n",
       "2  $75,847  $73,971  $72,483  $71,122  $70,004  $68,854   \n",
       "3  $70,628  $69,160  $66,768  $65,339  $62,859  $62,072   \n",
       "4  $72,222  $71,919  $70,165  $69,667  $67,458  $67,681   \n",
       "\n",
       "  Average Annual Growth Rate  \n",
       "0                      3.07%  \n",
       "1                      3.68%  \n",
       "2                      2.49%  \n",
       "3                      3.41%  \n",
       "4                      2.57%  "
      ]
     },
     "execution_count": 23,
     "metadata": {},
     "output_type": "execute_result"
    }
   ],
   "source": [
    "columns = [\"State Rank\", \"State\", \"2021\",'2019', '2018', '2017', '2016', '2015', '2014', '2013', '2012', '2011', '2010', 'Average Annual Growth Rate']\n",
    "incomedf = pd.DataFrame(data, columns=columns)\n",
    "incomedf.head()"
   ]
  },
  {
   "cell_type": "code",
   "execution_count": 24,
   "metadata": {},
   "outputs": [],
   "source": [
    "# Remove dollar sign and convert to float for all columns except 'State' and 'Average Annual Growth Rate'\n",
    "for col in incomedf.columns[2:]: \n",
    "    incomedf[col] = incomedf[col].str.replace('$', '')\n",
    "\n",
    "# Only keep the states contained in original dataset\n",
    "states = df['state'].unique()\n",
    "incomedf_filtered = incomedf[incomedf['State'].isin(states)]"
   ]
  },
  {
   "cell_type": "code",
   "execution_count": 25,
   "metadata": {},
   "outputs": [
    {
     "data": {
      "image/png": "[encoded data removed]",
      "text/plain": [
       "<Figure size 1600x1000 with 1 Axes>"
      ]
     },
     "metadata": {},
     "output_type": "display_data"
    }
   ],
   "source": [
    "plt.figure(figsize=(16, 10))\n",
    "\n",
    "# Extracting the years for the x-axis\n",
    "years = incomedf.columns[2:-1][::-1] \n",
    "\n",
    "# Plotting each state's income over the years\n",
    "for index, row in incomedf_filtered.iterrows():\n",
    "    state_name = row['State']\n",
    "    income_values = row[years].str.replace(',', '').astype(float)  # Remove commas and convert to float\n",
    "    plt.plot(years, income_values, label=state_name)\n",
    "\n",
    "plt.title(\"Median Household Income by State Over Years\")\n",
    "plt.xlabel(\"Year\")\n",
    "plt.ylabel(\"Median Household Income ($)\")\n",
    "plt.legend(loc='upper left', bbox_to_anchor=(1, 1), frameon=False)\n",
    "plt.grid(True)\n",
    "plt.tight_layout()\n",
    "plt.show()\n"
   ]
  },
  {
   "cell_type": "code",
   "execution_count": 26,
   "metadata": {},
   "outputs": [
    {
     "data": {
      "image/png": "[encoded data removed]",
      "text/plain": [
       "<Figure size 1200x700 with 1 Axes>"
      ]
     },
     "metadata": {},
     "output_type": "display_data"
    }
   ],
   "source": [
    "# Make a copy of the dataframe to avoid chained indexing\n",
    "incomedf_filtered = incomedf_filtered.copy()\n",
    "incomedf_filtered['2021'] = incomedf_filtered['2021'].str.replace('$', '').str.replace(',', '').astype(float)\n",
    "incomedf_filtered['2010'] = incomedf_filtered['2010'].str.replace('$', '').str.replace(',', '').astype(float)\n",
    "\n",
    "# Calculate difference between income of 2021 and 2010\n",
    "incomedf_filtered['Income_Diff'] = incomedf_filtered['2021'] - incomedf_filtered['2010']\n",
    "\n",
    "# Create horizontal dumbbell plot\n",
    "plt.figure(figsize=(12, 7))\n",
    "\n",
    "# Plotting the difference\n",
    "plt.scatter(incomedf_filtered['2021'], incomedf_filtered['State'], color='darkolivegreen', label='Income Difference (2021-2010)')\n",
    "for i, state in enumerate(incomedf_filtered['State']):\n",
    "    plt.plot([incomedf_filtered['2021'].iloc[i], incomedf_filtered['2021'].iloc[i] - incomedf_filtered['Income_Diff'].iloc[i]], [state, state], color='darkolivegreen')\n",
    "\n",
    "for i, state in enumerate(incomedf_filtered['State']):\n",
    "    plt.text(incomedf_filtered['2021'].iloc[i] + 1000, state, f\"{incomedf_filtered['Average Annual Growth Rate'].iloc[i]}\", verticalalignment='center')\n",
    "\n",
    "plt.xlabel('Median Household Income ($)')\n",
    "plt.ylabel('State')\n",
    "plt.title('Average Annual Growth Rate (2021-2010) by State')\n",
    "plt.legend()\n",
    "\n",
    "plt.grid(True)\n",
    "plt.tight_layout()\n",
    "plt.show()\n"
   ]
  },
  {
   "cell_type": "code",
   "execution_count": 28,
   "metadata": {},
   "outputs": [
    {
     "data": {
      "text/html": [
       "<div>\n",
       "<style scoped>\n",
       "    .dataframe tbody tr th:only-of-type {\n",
       "        vertical-align: middle;\n",
       "    }\n",
       "\n",
       "    .dataframe tbody tr th {\n",
       "        vertical-align: top;\n",
       "    }\n",
       "\n",
       "    .dataframe thead th {\n",
       "        text-align: right;\n",
       "    }\n",
       "</style>\n",
       "<table border=\"1\" class=\"dataframe\">\n",
       "  <thead>\n",
       "    <tr style=\"text-align: right;\">\n",
       "      <th></th>\n",
       "      <th>price_mean</th>\n",
       "      <th>price_median</th>\n",
       "      <th>acre_lot_mean</th>\n",
       "      <th>acre_lot_std</th>\n",
       "      <th>bed_median</th>\n",
       "      <th>bath_median</th>\n",
       "      <th>house_size_median</th>\n",
       "      <th>state_name</th>\n",
       "      <th>State Rank</th>\n",
       "      <th>State</th>\n",
       "      <th>...</th>\n",
       "      <th>2018</th>\n",
       "      <th>2017</th>\n",
       "      <th>2016</th>\n",
       "      <th>2015</th>\n",
       "      <th>2014</th>\n",
       "      <th>2013</th>\n",
       "      <th>2012</th>\n",
       "      <th>2011</th>\n",
       "      <th>2010</th>\n",
       "      <th>Average Annual Growth Rate</th>\n",
       "    </tr>\n",
       "  </thead>\n",
       "  <tbody>\n",
       "    <tr>\n",
       "      <th>0</th>\n",
       "      <td>698321.75</td>\n",
       "      <td>649000.0</td>\n",
       "      <td>0.29</td>\n",
       "      <td>391281.80</td>\n",
       "      <td>2.0</td>\n",
       "      <td>2.0</td>\n",
       "      <td>1164.0</td>\n",
       "      <td>New York</td>\n",
       "      <td>14</td>\n",
       "      <td>New York</td>\n",
       "      <td>...</td>\n",
       "      <td>67,844</td>\n",
       "      <td>64,894</td>\n",
       "      <td>62,909</td>\n",
       "      <td>60,850</td>\n",
       "      <td>58,878</td>\n",
       "      <td>57,369</td>\n",
       "      <td>56,448</td>\n",
       "      <td>55,246</td>\n",
       "      <td>54,148</td>\n",
       "      <td>2.93%</td>\n",
       "    </tr>\n",
       "    <tr>\n",
       "      <th>1</th>\n",
       "      <td>604714.07</td>\n",
       "      <td>550000.0</td>\n",
       "      <td>0.51</td>\n",
       "      <td>360118.88</td>\n",
       "      <td>3.0</td>\n",
       "      <td>2.0</td>\n",
       "      <td>1568.0</td>\n",
       "      <td>Massachusetts</td>\n",
       "      <td>2</td>\n",
       "      <td>Massachusetts</td>\n",
       "      <td>...</td>\n",
       "      <td>79,835</td>\n",
       "      <td>77,385</td>\n",
       "      <td>75,297</td>\n",
       "      <td>70,628</td>\n",
       "      <td>69,160</td>\n",
       "      <td>66,768</td>\n",
       "      <td>65,339</td>\n",
       "      <td>62,859</td>\n",
       "      <td>62,072</td>\n",
       "      <td>3.41%</td>\n",
       "    </tr>\n",
       "    <tr>\n",
       "      <th>2</th>\n",
       "      <td>535000.00</td>\n",
       "      <td>535000.0</td>\n",
       "      <td>0.29</td>\n",
       "      <td>0.00</td>\n",
       "      <td>3.0</td>\n",
       "      <td>3.0</td>\n",
       "      <td>1935.0</td>\n",
       "      <td>Wyoming</td>\n",
       "      <td>31</td>\n",
       "      <td>Wyoming</td>\n",
       "      <td>...</td>\n",
       "      <td>61,584</td>\n",
       "      <td>60,434</td>\n",
       "      <td>59,882</td>\n",
       "      <td>60,214</td>\n",
       "      <td>57,055</td>\n",
       "      <td>58,752</td>\n",
       "      <td>54,901</td>\n",
       "      <td>56,322</td>\n",
       "      <td>53,512</td>\n",
       "      <td>1.87%</td>\n",
       "    </tr>\n",
       "    <tr>\n",
       "      <th>3</th>\n",
       "      <td>495908.94</td>\n",
       "      <td>435000.0</td>\n",
       "      <td>0.31</td>\n",
       "      <td>295281.00</td>\n",
       "      <td>3.0</td>\n",
       "      <td>2.0</td>\n",
       "      <td>1572.0</td>\n",
       "      <td>New Jersey</td>\n",
       "      <td>3</td>\n",
       "      <td>New Jersey</td>\n",
       "      <td>...</td>\n",
       "      <td>81,740</td>\n",
       "      <td>80,088</td>\n",
       "      <td>76,126</td>\n",
       "      <td>72,222</td>\n",
       "      <td>71,919</td>\n",
       "      <td>70,165</td>\n",
       "      <td>69,667</td>\n",
       "      <td>67,458</td>\n",
       "      <td>67,681</td>\n",
       "      <td>2.57%</td>\n",
       "    </tr>\n",
       "    <tr>\n",
       "      <th>4</th>\n",
       "      <td>492703.60</td>\n",
       "      <td>490225.0</td>\n",
       "      <td>0.91</td>\n",
       "      <td>74803.07</td>\n",
       "      <td>5.0</td>\n",
       "      <td>3.5</td>\n",
       "      <td>3388.5</td>\n",
       "      <td>Georgia</td>\n",
       "      <td>25</td>\n",
       "      <td>Georgia</td>\n",
       "      <td>...</td>\n",
       "      <td>58,756</td>\n",
       "      <td>56,183</td>\n",
       "      <td>53,559</td>\n",
       "      <td>51,244</td>\n",
       "      <td>49,321</td>\n",
       "      <td>47,829</td>\n",
       "      <td>47,209</td>\n",
       "      <td>46,007</td>\n",
       "      <td>46,430</td>\n",
       "      <td>3.34%</td>\n",
       "    </tr>\n",
       "  </tbody>\n",
       "</table>\n",
       "<p>5 rows × 22 columns</p>\n",
       "</div>"
      ],
      "text/plain": [
       "   price_mean  price_median  acre_lot_mean  acre_lot_std  bed_median  \\\n",
       "0   698321.75      649000.0           0.29     391281.80         2.0   \n",
       "1   604714.07      550000.0           0.51     360118.88         3.0   \n",
       "2   535000.00      535000.0           0.29          0.00         3.0   \n",
       "3   495908.94      435000.0           0.31     295281.00         3.0   \n",
       "4   492703.60      490225.0           0.91      74803.07         5.0   \n",
       "\n",
       "   bath_median  house_size_median     state_name State Rank          State  \\\n",
       "0          2.0             1164.0       New York         14       New York   \n",
       "1          2.0             1568.0  Massachusetts          2  Massachusetts   \n",
       "2          3.0             1935.0        Wyoming         31        Wyoming   \n",
       "3          2.0             1572.0     New Jersey          3     New Jersey   \n",
       "4          3.5             3388.5        Georgia         25        Georgia   \n",
       "\n",
       "   ...    2018    2017    2016    2015    2014    2013    2012    2011  \\\n",
       "0  ...  67,844  64,894  62,909  60,850  58,878  57,369  56,448  55,246   \n",
       "1  ...  79,835  77,385  75,297  70,628  69,160  66,768  65,339  62,859   \n",
       "2  ...  61,584  60,434  59,882  60,214  57,055  58,752  54,901  56,322   \n",
       "3  ...  81,740  80,088  76,126  72,222  71,919  70,165  69,667  67,458   \n",
       "4  ...  58,756  56,183  53,559  51,244  49,321  47,829  47,209  46,007   \n",
       "\n",
       "     2010 Average Annual Growth Rate  \n",
       "0  54,148                      2.93%  \n",
       "1  62,072                      3.41%  \n",
       "2  53,512                      1.87%  \n",
       "3  67,681                      2.57%  \n",
       "4  46,430                      3.34%  \n",
       "\n",
       "[5 rows x 22 columns]"
      ]
     },
     "execution_count": 28,
     "metadata": {},
     "output_type": "execute_result"
    }
   ],
   "source": [
    "merged_dff = pd.merge(grouped_by_state, incomedf, left_on='state_name', right_on='State', how='left')\n",
    "merged_dff.head()"
   ]
  },
  {
   "cell_type": "code",
   "execution_count": 31,
   "metadata": {},
   "outputs": [
    {
     "data": {
      "text/plain": [
       "<seaborn.axisgrid.JointGrid at 0x2b20a50d0>"
      ]
     },
     "execution_count": 31,
     "metadata": {},
     "output_type": "execute_result"
    },
    {
     "data": {
      "image/png": "[encoded data removed]",
      "text/plain": [
       "<Figure size 600x600 with 3 Axes>"
      ]
     },
     "metadata": {},
     "output_type": "display_data"
    }
   ],
   "source": [
    "import seaborn as sns\n",
    "\n",
    "#Contour Plot\n",
    "sns.jointplot(x = merged_dff['Average Annual Growth Rate'], y = merged_dff['price_mean'], data= merged_dff, color=\"green\")"
   ]
  },
  {
   "cell_type": "markdown",
   "metadata": {},
   "source": [
    "### Part Three"
   ]
  },
  {
   "cell_type": "markdown",
   "metadata": {},
   "source": [
    "\"Location, location, location\" remains a well-known phrase in the real estate circles. Accoding to a literature review by Wardrip (2011), public transit has a considerable influence on housing costs. The benefits of residing near a transit stop are valued among young adults with stable income who prioritize high living standards. But not all neighborhoods are impacted the same way by transit networks, especially the areas have already high housing prices and their residents are from middle class. Though, Giuliano and Agarwal (2010) found that people moving to a new area often look at the transportation aspect and expect it to be easyly accessible. \n",
    "\n",
    "The following dataset is from the National Neighborhood Data Archive (NaNDA) and provides data on public transit stops by census tract in the United States for the years 2016-2018. (https://www.openicpsr.org/openicpsr/project/111109/version/V1/view)"
   ]
  },
  {
   "cell_type": "code",
   "execution_count": null,
   "metadata": {},
   "outputs": [
    {
     "data": {
      "text/html": [
       "<div>\n",
       "<style scoped>\n",
       "    .dataframe tbody tr th:only-of-type {\n",
       "        vertical-align: middle;\n",
       "    }\n",
       "\n",
       "    .dataframe tbody tr th {\n",
       "        vertical-align: top;\n",
       "    }\n",
       "\n",
       "    .dataframe thead th {\n",
       "        text-align: right;\n",
       "    }\n",
       "</style>\n",
       "<table border=\"1\" class=\"dataframe\">\n",
       "  <thead>\n",
       "    <tr style=\"text-align: right;\">\n",
       "      <th></th>\n",
       "      <th>tract_fips</th>\n",
       "      <th>census_tract_area</th>\n",
       "      <th>count_ntm_stops</th>\n",
       "      <th>tot_pop_2010</th>\n",
       "      <th>stops_per_capita</th>\n",
       "      <th>stops_per_sqmile</th>\n",
       "    </tr>\n",
       "  </thead>\n",
       "  <tbody>\n",
       "    <tr>\n",
       "      <th>0</th>\n",
       "      <td>01001020100</td>\n",
       "      <td>3.788</td>\n",
       "      <td>0</td>\n",
       "      <td>1812.0</td>\n",
       "      <td>0.0</td>\n",
       "      <td>0.0</td>\n",
       "    </tr>\n",
       "    <tr>\n",
       "      <th>1</th>\n",
       "      <td>01001020200</td>\n",
       "      <td>1.290</td>\n",
       "      <td>0</td>\n",
       "      <td>2218.0</td>\n",
       "      <td>0.0</td>\n",
       "      <td>0.0</td>\n",
       "    </tr>\n",
       "    <tr>\n",
       "      <th>2</th>\n",
       "      <td>01001020300</td>\n",
       "      <td>2.065</td>\n",
       "      <td>0</td>\n",
       "      <td>3155.0</td>\n",
       "      <td>0.0</td>\n",
       "      <td>0.0</td>\n",
       "    </tr>\n",
       "    <tr>\n",
       "      <th>3</th>\n",
       "      <td>01001020400</td>\n",
       "      <td>2.464</td>\n",
       "      <td>0</td>\n",
       "      <td>4337.0</td>\n",
       "      <td>0.0</td>\n",
       "      <td>0.0</td>\n",
       "    </tr>\n",
       "    <tr>\n",
       "      <th>4</th>\n",
       "      <td>01001020500</td>\n",
       "      <td>4.401</td>\n",
       "      <td>0</td>\n",
       "      <td>10498.0</td>\n",
       "      <td>0.0</td>\n",
       "      <td>0.0</td>\n",
       "    </tr>\n",
       "  </tbody>\n",
       "</table>\n",
       "</div>"
      ],
      "text/plain": [
       "    tract_fips  census_tract_area  count_ntm_stops  tot_pop_2010  \\\n",
       "0  01001020100              3.788                0        1812.0   \n",
       "1  01001020200              1.290                0        2218.0   \n",
       "2  01001020300              2.065                0        3155.0   \n",
       "3  01001020400              2.464                0        4337.0   \n",
       "4  01001020500              4.401                0       10498.0   \n",
       "\n",
       "   stops_per_capita  stops_per_sqmile  \n",
       "0               0.0               0.0  \n",
       "1               0.0               0.0  \n",
       "2               0.0               0.0  \n",
       "3               0.0               0.0  \n",
       "4               0.0               0.0  "
      ]
     },
     "execution_count": 79,
     "metadata": {},
     "output_type": "execute_result"
    }
   ],
   "source": [
    "dtype_spec = {'tract_fips': 'string'}\n",
    "stops_df = pd.read_csv('/Users/hanhhieudao/Desktop/ECO225/nanda_transit_tract_2016-2018_05P.csv', dtype=dtype_spec)\n",
    "stops_df.head()"
   ]
  },
  {
   "cell_type": "code",
   "execution_count": null,
   "metadata": {},
   "outputs": [
    {
     "data": {
      "text/html": [
       "<div>\n",
       "<style scoped>\n",
       "    .dataframe tbody tr th:only-of-type {\n",
       "        vertical-align: middle;\n",
       "    }\n",
       "\n",
       "    .dataframe tbody tr th {\n",
       "        vertical-align: top;\n",
       "    }\n",
       "\n",
       "    .dataframe thead th {\n",
       "        text-align: right;\n",
       "    }\n",
       "</style>\n",
       "<table border=\"1\" class=\"dataframe\">\n",
       "  <thead>\n",
       "    <tr style=\"text-align: right;\">\n",
       "      <th></th>\n",
       "      <th>tract_fips</th>\n",
       "      <th>census_tract_area</th>\n",
       "      <th>count_ntm_stops</th>\n",
       "      <th>tot_pop_2010</th>\n",
       "      <th>stops_per_capita</th>\n",
       "      <th>stops_per_sqmile</th>\n",
       "      <th>county_code</th>\n",
       "      <th>county</th>\n",
       "      <th>state_code</th>\n",
       "      <th>state_name</th>\n",
       "    </tr>\n",
       "  </thead>\n",
       "  <tbody>\n",
       "    <tr>\n",
       "      <th>0</th>\n",
       "      <td>01001020100</td>\n",
       "      <td>3.788</td>\n",
       "      <td>0</td>\n",
       "      <td>1812.0</td>\n",
       "      <td>0.0</td>\n",
       "      <td>0.0</td>\n",
       "      <td>01001</td>\n",
       "      <td>Autauga</td>\n",
       "      <td>01</td>\n",
       "      <td>Alabama</td>\n",
       "    </tr>\n",
       "    <tr>\n",
       "      <th>1</th>\n",
       "      <td>01001020200</td>\n",
       "      <td>1.290</td>\n",
       "      <td>0</td>\n",
       "      <td>2218.0</td>\n",
       "      <td>0.0</td>\n",
       "      <td>0.0</td>\n",
       "      <td>01001</td>\n",
       "      <td>Autauga</td>\n",
       "      <td>01</td>\n",
       "      <td>Alabama</td>\n",
       "    </tr>\n",
       "    <tr>\n",
       "      <th>2</th>\n",
       "      <td>01001020300</td>\n",
       "      <td>2.065</td>\n",
       "      <td>0</td>\n",
       "      <td>3155.0</td>\n",
       "      <td>0.0</td>\n",
       "      <td>0.0</td>\n",
       "      <td>01001</td>\n",
       "      <td>Autauga</td>\n",
       "      <td>01</td>\n",
       "      <td>Alabama</td>\n",
       "    </tr>\n",
       "    <tr>\n",
       "      <th>3</th>\n",
       "      <td>01001020400</td>\n",
       "      <td>2.464</td>\n",
       "      <td>0</td>\n",
       "      <td>4337.0</td>\n",
       "      <td>0.0</td>\n",
       "      <td>0.0</td>\n",
       "      <td>01001</td>\n",
       "      <td>Autauga</td>\n",
       "      <td>01</td>\n",
       "      <td>Alabama</td>\n",
       "    </tr>\n",
       "    <tr>\n",
       "      <th>4</th>\n",
       "      <td>01001020500</td>\n",
       "      <td>4.401</td>\n",
       "      <td>0</td>\n",
       "      <td>10498.0</td>\n",
       "      <td>0.0</td>\n",
       "      <td>0.0</td>\n",
       "      <td>01001</td>\n",
       "      <td>Autauga</td>\n",
       "      <td>01</td>\n",
       "      <td>Alabama</td>\n",
       "    </tr>\n",
       "  </tbody>\n",
       "</table>\n",
       "</div>"
      ],
      "text/plain": [
       "    tract_fips  census_tract_area  count_ntm_stops  tot_pop_2010  \\\n",
       "0  01001020100              3.788                0        1812.0   \n",
       "1  01001020200              1.290                0        2218.0   \n",
       "2  01001020300              2.065                0        3155.0   \n",
       "3  01001020400              2.464                0        4337.0   \n",
       "4  01001020500              4.401                0       10498.0   \n",
       "\n",
       "   stops_per_capita  stops_per_sqmile county_code   county state_code  \\\n",
       "0               0.0               0.0       01001  Autauga         01   \n",
       "1               0.0               0.0       01001  Autauga         01   \n",
       "2               0.0               0.0       01001  Autauga         01   \n",
       "3               0.0               0.0       01001  Autauga         01   \n",
       "4               0.0               0.0       01001  Autauga         01   \n",
       "\n",
       "  state_name  \n",
       "0    Alabama  \n",
       "1    Alabama  \n",
       "2    Alabama  \n",
       "3    Alabama  \n",
       "4    Alabama  "
      ]
     },
     "execution_count": 88,
     "metadata": {},
     "output_type": "execute_result"
    }
   ],
   "source": [
    "fips_code = pd.read_csv('/Users/hanhhieudao/Desktop/ECO225/US_FIPS_Codes.csv', dtype='string')\n",
    "fips_code['State_County_Code'] = fips_code['FIPS State'] + fips_code['FIPS County']\n",
    "\n",
    "stops_df['county_code'] = stops_df['tract_fips'].astype(str).str[:5]\n",
    "stops_df['county'] = stops_df['county_code'].map(dict(zip(fips_code['State_County_Code'], fips_code['County Name'])))\n",
    "stops_df['state_code'] = stops_df['tract_fips'].astype(str).str[:2]\n",
    "stops_df['state_name'] = stops_df['state_code'].map(dict(zip(fips_code['FIPS State'], fips_code['State'])))\n",
    "\n",
    "# Print the frame with names of counties and states\n",
    "stops_df.head()\n"
   ]
  },
  {
   "cell_type": "code",
   "execution_count": null,
   "metadata": {},
   "outputs": [
    {
     "data": {
      "text/html": [
       "<div>\n",
       "<style scoped>\n",
       "    .dataframe tbody tr th:only-of-type {\n",
       "        vertical-align: middle;\n",
       "    }\n",
       "\n",
       "    .dataframe tbody tr th {\n",
       "        vertical-align: top;\n",
       "    }\n",
       "\n",
       "    .dataframe thead th {\n",
       "        text-align: right;\n",
       "    }\n",
       "</style>\n",
       "<table border=\"1\" class=\"dataframe\">\n",
       "  <thead>\n",
       "    <tr style=\"text-align: right;\">\n",
       "      <th></th>\n",
       "      <th>state_name</th>\n",
       "      <th>stops_per_capita</th>\n",
       "      <th>stops_per_sqmile</th>\n",
       "      <th>housing-price</th>\n",
       "    </tr>\n",
       "  </thead>\n",
       "  <tbody>\n",
       "    <tr>\n",
       "      <th>6</th>\n",
       "      <td>Connecticut</td>\n",
       "      <td>3.344178</td>\n",
       "      <td>15.808874</td>\n",
       "      <td>591962.52</td>\n",
       "    </tr>\n",
       "    <tr>\n",
       "      <th>7</th>\n",
       "      <td>Delaware</td>\n",
       "      <td>3.128145</td>\n",
       "      <td>13.284118</td>\n",
       "      <td>345206.59</td>\n",
       "    </tr>\n",
       "    <tr>\n",
       "      <th>10</th>\n",
       "      <td>Georgia</td>\n",
       "      <td>1.424575</td>\n",
       "      <td>4.961646</td>\n",
       "      <td>492703.60</td>\n",
       "    </tr>\n",
       "    <tr>\n",
       "      <th>19</th>\n",
       "      <td>Maine</td>\n",
       "      <td>0.128878</td>\n",
       "      <td>0.390300</td>\n",
       "      <td>420010.05</td>\n",
       "    </tr>\n",
       "    <tr>\n",
       "      <th>21</th>\n",
       "      <td>Massachusetts</td>\n",
       "      <td>7.053142</td>\n",
       "      <td>22.465388</td>\n",
       "      <td>975750.52</td>\n",
       "    </tr>\n",
       "    <tr>\n",
       "      <th>29</th>\n",
       "      <td>New Hampshire</td>\n",
       "      <td>0.475422</td>\n",
       "      <td>1.496406</td>\n",
       "      <td>480767.87</td>\n",
       "    </tr>\n",
       "    <tr>\n",
       "      <th>30</th>\n",
       "      <td>New Jersey</td>\n",
       "      <td>2.159833</td>\n",
       "      <td>17.900625</td>\n",
       "      <td>626210.43</td>\n",
       "    </tr>\n",
       "    <tr>\n",
       "      <th>32</th>\n",
       "      <td>New York</td>\n",
       "      <td>3.497654</td>\n",
       "      <td>25.056206</td>\n",
       "      <td>1490667.61</td>\n",
       "    </tr>\n",
       "    <tr>\n",
       "      <th>38</th>\n",
       "      <td>Pennsylvania</td>\n",
       "      <td>9.410512</td>\n",
       "      <td>18.795124</td>\n",
       "      <td>424374.16</td>\n",
       "    </tr>\n",
       "    <tr>\n",
       "      <th>39</th>\n",
       "      <td>Rhode Island</td>\n",
       "      <td>0.061521</td>\n",
       "      <td>0.093613</td>\n",
       "      <td>500215.49</td>\n",
       "    </tr>\n",
       "    <tr>\n",
       "      <th>40</th>\n",
       "      <td>South Carolina</td>\n",
       "      <td>0.472111</td>\n",
       "      <td>1.290759</td>\n",
       "      <td>18950.00</td>\n",
       "    </tr>\n",
       "    <tr>\n",
       "      <th>42</th>\n",
       "      <td>Tennessee</td>\n",
       "      <td>4.070745</td>\n",
       "      <td>2.686578</td>\n",
       "      <td>34900.00</td>\n",
       "    </tr>\n",
       "    <tr>\n",
       "      <th>45</th>\n",
       "      <td>Vermont</td>\n",
       "      <td>3.140046</td>\n",
       "      <td>5.293410</td>\n",
       "      <td>457210.15</td>\n",
       "    </tr>\n",
       "    <tr>\n",
       "      <th>46</th>\n",
       "      <td>Virginia</td>\n",
       "      <td>1.239730</td>\n",
       "      <td>7.419528</td>\n",
       "      <td>362064.52</td>\n",
       "    </tr>\n",
       "    <tr>\n",
       "      <th>48</th>\n",
       "      <td>West Virginia</td>\n",
       "      <td>0.170865</td>\n",
       "      <td>0.567354</td>\n",
       "      <td>62500.00</td>\n",
       "    </tr>\n",
       "    <tr>\n",
       "      <th>50</th>\n",
       "      <td>Wyoming</td>\n",
       "      <td>0.000000</td>\n",
       "      <td>0.000000</td>\n",
       "      <td>535000.00</td>\n",
       "    </tr>\n",
       "  </tbody>\n",
       "</table>\n",
       "</div>"
      ],
      "text/plain": [
       "        state_name  stops_per_capita  stops_per_sqmile  housing-price\n",
       "6      Connecticut          3.344178         15.808874      591962.52\n",
       "7         Delaware          3.128145         13.284118      345206.59\n",
       "10         Georgia          1.424575          4.961646      492703.60\n",
       "19           Maine          0.128878          0.390300      420010.05\n",
       "21   Massachusetts          7.053142         22.465388      975750.52\n",
       "29   New Hampshire          0.475422          1.496406      480767.87\n",
       "30      New Jersey          2.159833         17.900625      626210.43\n",
       "32        New York          3.497654         25.056206     1490667.61\n",
       "38    Pennsylvania          9.410512         18.795124      424374.16\n",
       "39    Rhode Island          0.061521          0.093613      500215.49\n",
       "40  South Carolina          0.472111          1.290759       18950.00\n",
       "42       Tennessee          4.070745          2.686578       34900.00\n",
       "45         Vermont          3.140046          5.293410      457210.15\n",
       "46        Virginia          1.239730          7.419528      362064.52\n",
       "48   West Virginia          0.170865          0.567354       62500.00\n",
       "50         Wyoming          0.000000          0.000000      535000.00"
      ]
     },
     "execution_count": 93,
     "metadata": {},
     "output_type": "execute_result"
    }
   ],
   "source": [
    "# Grouping the data by state and calculating the mean for stops_per_capita and stops_per_sqmile\n",
    "avg_stops = stops_df.groupby('state_name')[['stops_per_capita', 'stops_per_sqmile']].mean().reset_index()\n",
    "merged = pd.merge(avg_stops, grouped_by_state[['state_name', 'price_mean']], left_on='state_name', right_on='state_name', how='left')\n",
    "merged.drop(columns=['state_name'], inplace=True)\n",
    "avg_stops['housing-price'] = merged['price_mean']\n",
    "avg_stops.dropna(subset=['housing-price'], inplace=True)\n",
    "avg_stops\n"
   ]
  },
  {
   "cell_type": "code",
   "execution_count": null,
   "metadata": {},
   "outputs": [
    {
     "data": {
      "text/plain": [
       "<seaborn.axisgrid.JointGrid at 0x301027910>"
      ]
     },
     "execution_count": 94,
     "metadata": {},
     "output_type": "execute_result"
    },
    {
     "data": {
      "image/png": "[encoded data removed]",
      "text/plain": [
       "<Figure size 600x600 with 3 Axes>"
      ]
     },
     "metadata": {},
     "output_type": "display_data"
    }
   ],
   "source": [
    "import seaborn as sns\n",
    "\n",
    "#Contour Plot\n",
    "sns.jointplot(x = avg_stops['stops_per_sqmile'], y = avg_stops['housing-price'], kind='kde', color=\"green\", fill='True')"
   ]
  },
  {
   "cell_type": "markdown",
   "metadata": {},
   "source": [
    "The above Contour plot utilizes a color gradient to represent the strength of correlation. TThe dark green regions indicate a higher correlation, particularly in areas where there are 0-10 transit stops. This observation emphasizes the impact of public transit accessibility on property values, considering that a propery will be more desirable if it's convenient for house owners to commute to various destinations. A well-developed transit network does increase the housing prices. "
   ]
  },
  {
   "cell_type": "code",
   "execution_count": null,
   "metadata": {},
   "outputs": [],
   "source": [
    "# import folium\n",
    "\n",
    "# def price_to_color(price):\n",
    "#     if price < 200000:\n",
    "#         return 'green'\n",
    "#     elif 200000 <= price < 500000:\n",
    "#         return 'yellow'\n",
    "#     elif 500000 <= price < 1000000:\n",
    "#         return 'orange'\n",
    "#     else:\n",
    "#         return 'red'\n",
    "\n",
    "# NYC_COORD = [40.7128, -74.0059]\n",
    "# states_of_interest = ['New York', 'Massachusetts', 'Virgin Islands']\n",
    "# top3_df = df_map[df_map['state'].isin(states_of_interest)]\n",
    "\n",
    "# top3_map = folium.Map(location=NYC_COORD, zoom_start=12, \n",
    "# tiles='cartodbpositron', width=640, height=480)\n",
    "# # Plot coordinates\n",
    "# top3_df.apply(lambda row:folium.CircleMarker(location=[row[\"Latitude\"], row[\"Longitude\"]], \n",
    "#                                               radius=0.001,\n",
    "#                                               color=price_to_color(row[\"price\"]))\n",
    "#                                              .add_to(top3_map), axis=1)\n",
    "\n",
    "# top3_map"
   ]
  },
  {
   "cell_type": "markdown",
   "metadata": {},
   "source": [
    "# Conclusion\n",
    "The analysis highlights three main factors affecting the housing prices in the US Real Estate Market: house features, economic conditions, and proximity to transportation networks. \n",
    "\n",
    "First, the paper found that with houses with more amentities, such as additional bedrooms, bathrooms, and larger living spaces, tend to have higher prices. However, it's essential to note that prices can vary due to different buyer preferences, living demands, and personal income.\n",
    "\n",
    "Secondly, demographic composition associated with neighborhoods and areas do affect the housing prices. With data scraped from web, the plots suggest that higher household incomes often feature more luxury homes. This implies that the demand for certain types of houses varies among different socioeconomic groups and personal income is a key determinant to differentiate buyer groups. \n",
    "\n",
    "Lastly, the location of a property, especially the number of transit stops in the area, significantly impacts its value. Properties located in areas with better access to transportation tend to command higher prices, indicating that residents consider commuting benefits when deciding to purchase a house; thus, driving up prperty prices.\n",
    "\n",
    "For furtue questions, a comprehensive economic model is crucial to understand these patterns in prices fully as there are many other variables affecting housing costs. In addition, because of the dynamics in variables' behaviours, there is a necessity for optimized metrics that incorporate all relevant factors influencing the housing market into appropriate economic models. "
   ]
  },
  {
   "cell_type": "markdown",
   "metadata": {},
   "source": [
    "## References\n",
    "\n",
    "- Oluseyi, J.O. (2014). Critical factors determining Rental Value of Residential Property in Ibadan Metropolis, Nigeria. Property Management, 32(3), 224-240.\n",
    "- Zietz, J., Zietz, E., & Sirmans, G. (2008). Determinants of House Prices: A Quantile Regression Approach. The Journal of Real Estate Finance and Economics, 37, 317-333. doi:10.1007/s11146-007-9053-7.\n",
    "- Gallin, J. (2008). The long-run relationship between house prices and rents. Real Estate Economics, 36(4):635–658.\n",
    "- Islam, S. (2007). Neighbourhood Characteristics and Adjacent Ravines on House Prices. Journal of Real Estate AEconomics. \n",
    "- Bayer, P., Casey, M., Ferreira, F., & McMillan, R. (Year). Racial and ethnic price differentials in the housing market. Journal Name, Volume= (Issue), PageRange.\n",
    "- U.S. Census Bureau. (2020). 2020 Census Demographic Profile. U.S. Census Bureau.https://www.census.gov/data/tables/2023/dec/2020-census-demographic-profile.html \n",
    "- Realtor.com. (2024). Real Estate Listings in the US by State and Zip Code. Kaggle. \n"
   ]
  }
 ],
 "metadata": {
  "kernelspec": {
   "display_name": "Python 3",
   "language": "python",
   "name": "python3"
  },
  "language_info": {
   "codemirror_mode": {
    "name": "ipython",
    "version": 3
   },
   "file_extension": ".py",
   "mimetype": "text/x-python",
   "name": "python",
   "nbconvert_exporter": "python",
   "pygments_lexer": "ipython3",
   "version": "3.11.7"
  }
 },
 "nbformat": 4,
 "nbformat_minor": 2
}
